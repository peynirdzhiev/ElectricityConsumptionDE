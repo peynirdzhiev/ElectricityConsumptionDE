{
 "cells": [
  {
   "cell_type": "markdown",
   "id": "5381ce2e",
   "metadata": {},
   "source": [
    "## Does temperature predict electricity consumption?\n",
    "Ivan Peynirdzhiev  "
   ]
  },
  {
   "cell_type": "markdown",
   "id": "08919d2d",
   "metadata": {},
   "source": [
    "data folder: https://drive.google.com/drive/folders/1Zd3Q9BxGdvliB0Q2TPjPyQ9v6qizl-Rg?usp=sharing"
   ]
  },
  {
   "cell_type": "markdown",
   "id": "4a05d25c",
   "metadata": {},
   "source": [
    "I wanted to research whether air temperature is having an effect on electricity consumption. The reason behind such relationship is that some electricity is needed for heating, the demand for which rises with falling temperatures. "
   ]
  },
  {
   "cell_type": "code",
   "execution_count": 1,
   "id": "d8183c41",
   "metadata": {},
   "outputs": [],
   "source": [
    "%matplotlib inline"
   ]
  },
  {
   "cell_type": "code",
   "execution_count": 2,
   "id": "7fc3cffd",
   "metadata": {},
   "outputs": [],
   "source": [
    "import numpy as np\n",
    "import pandas as pd\n",
    "import matplotlib.pyplot as plt\n",
    "\n",
    "from mpl_toolkits.basemap import Basemap\n",
    "\n",
    "from sklearn.model_selection import train_test_split\n",
    "from sklearn.linear_model import LinearRegression\n",
    "from sklearn.metrics import r2_score"
   ]
  },
  {
   "cell_type": "markdown",
   "id": "4f7dee80",
   "metadata": {},
   "source": [
    "### 1.  Choosing weather stations.\n",
    "I wanted to explore this relationship for Bulgaria, but as I didn’t manage to find the required data from NIMH. As temperature varies during the day, an hourly data would be appropriate. There is hourly temperature data for Germany at dwd.de, so I decided to use this data."
   ]
  },
  {
   "cell_type": "code",
   "execution_count": 3,
   "id": "02ea216f",
   "metadata": {},
   "outputs": [],
   "source": [
    "stations = pd.read_csv('data/TU_Stundenwerte_Beschreibung_Stationen.txt', sep = '\\s+')"
   ]
  },
  {
   "cell_type": "markdown",
   "id": "0492b1dd",
   "metadata": {},
   "source": [
    "First, I wanted to see where the weather stations are. This is a file with all the weather stations of the DWD, with coordinates."
   ]
  },
  {
   "cell_type": "code",
   "execution_count": 4,
   "id": "7c90d6fb",
   "metadata": {},
   "outputs": [
    {
     "data": {
      "text/html": [
       "<div>\n",
       "<style scoped>\n",
       "    .dataframe tbody tr th:only-of-type {\n",
       "        vertical-align: middle;\n",
       "    }\n",
       "\n",
       "    .dataframe tbody tr th {\n",
       "        vertical-align: top;\n",
       "    }\n",
       "\n",
       "    .dataframe thead th {\n",
       "        text-align: right;\n",
       "    }\n",
       "</style>\n",
       "<table border=\"1\" class=\"dataframe\">\n",
       "  <thead>\n",
       "    <tr style=\"text-align: right;\">\n",
       "      <th></th>\n",
       "      <th>Stations_id</th>\n",
       "      <th>von_datum</th>\n",
       "      <th>bis_datum</th>\n",
       "      <th>Stationshoehe</th>\n",
       "      <th>geoBreite</th>\n",
       "      <th>geoLaenge</th>\n",
       "      <th>Stationsname</th>\n",
       "      <th>Bundesland</th>\n",
       "    </tr>\n",
       "  </thead>\n",
       "  <tbody>\n",
       "    <tr>\n",
       "      <th>0</th>\n",
       "      <td>3</td>\n",
       "      <td>19500401</td>\n",
       "      <td>20110331</td>\n",
       "      <td>202</td>\n",
       "      <td>50.7827</td>\n",
       "      <td>6.0941</td>\n",
       "      <td>Aachen</td>\n",
       "      <td>Nordrhein-Westfalen</td>\n",
       "    </tr>\n",
       "    <tr>\n",
       "      <th>1</th>\n",
       "      <td>44</td>\n",
       "      <td>20070401</td>\n",
       "      <td>20220829</td>\n",
       "      <td>44</td>\n",
       "      <td>52.9336</td>\n",
       "      <td>8.2370</td>\n",
       "      <td>Gro�enkneten</td>\n",
       "      <td>Niedersachsen</td>\n",
       "    </tr>\n",
       "    <tr>\n",
       "      <th>2</th>\n",
       "      <td>52</td>\n",
       "      <td>19760101</td>\n",
       "      <td>19880101</td>\n",
       "      <td>46</td>\n",
       "      <td>53.6623</td>\n",
       "      <td>10.1990</td>\n",
       "      <td>Ahrensburg-Wulfsdorf</td>\n",
       "      <td>Schleswig-Holstein</td>\n",
       "    </tr>\n",
       "    <tr>\n",
       "      <th>3</th>\n",
       "      <td>71</td>\n",
       "      <td>20091201</td>\n",
       "      <td>20191231</td>\n",
       "      <td>759</td>\n",
       "      <td>48.2156</td>\n",
       "      <td>8.9784</td>\n",
       "      <td>Albstadt-Badkap</td>\n",
       "      <td>Baden-W�rttemberg</td>\n",
       "    </tr>\n",
       "    <tr>\n",
       "      <th>4</th>\n",
       "      <td>73</td>\n",
       "      <td>20070401</td>\n",
       "      <td>20220829</td>\n",
       "      <td>340</td>\n",
       "      <td>48.6159</td>\n",
       "      <td>13.0506</td>\n",
       "      <td>Aldersbach-Kriestorf</td>\n",
       "      <td>Bayern</td>\n",
       "    </tr>\n",
       "  </tbody>\n",
       "</table>\n",
       "</div>"
      ],
      "text/plain": [
       "   Stations_id  von_datum  bis_datum  Stationshoehe  geoBreite  geoLaenge  \\\n",
       "0            3   19500401   20110331            202    50.7827     6.0941   \n",
       "1           44   20070401   20220829             44    52.9336     8.2370   \n",
       "2           52   19760101   19880101             46    53.6623    10.1990   \n",
       "3           71   20091201   20191231            759    48.2156     8.9784   \n",
       "4           73   20070401   20220829            340    48.6159    13.0506   \n",
       "\n",
       "           Stationsname           Bundesland  \n",
       "0                Aachen  Nordrhein-Westfalen  \n",
       "1          Gro�enkneten        Niedersachsen  \n",
       "2  Ahrensburg-Wulfsdorf   Schleswig-Holstein  \n",
       "3       Albstadt-Badkap    Baden-W�rttemberg  \n",
       "4  Aldersbach-Kriestorf               Bayern  "
      ]
     },
     "execution_count": 4,
     "metadata": {},
     "output_type": "execute_result"
    }
   ],
   "source": [
    "stations.head()"
   ]
  },
  {
   "cell_type": "markdown",
   "id": "e00392a4",
   "metadata": {},
   "source": [
    "In order to read the file I had to manually remove whitespaces between station names, because there was the columns were separated with whitespaces as well."
   ]
  },
  {
   "cell_type": "code",
   "execution_count": 5,
   "id": "e0f16612",
   "metadata": {
    "scrolled": true
   },
   "outputs": [
    {
     "data": {
      "text/plain": [
       "Stations_id        int64\n",
       "von_datum          int64\n",
       "bis_datum          int64\n",
       "Stationshoehe      int64\n",
       "geoBreite        float64\n",
       "geoLaenge        float64\n",
       "Stationsname      object\n",
       "Bundesland        object\n",
       "dtype: object"
      ]
     },
     "execution_count": 5,
     "metadata": {},
     "output_type": "execute_result"
    }
   ],
   "source": [
    "stations.dtypes"
   ]
  },
  {
   "cell_type": "markdown",
   "id": "d38d24d0",
   "metadata": {},
   "source": [
    "As all the data type is ‘object’ I convert the coordinate columns to ‘float’ and station id to ‘int’. "
   ]
  },
  {
   "cell_type": "code",
   "execution_count": 6,
   "id": "4244df31",
   "metadata": {},
   "outputs": [
    {
     "data": {
      "text/plain": [
       "0          3\n",
       "1         44\n",
       "2         52\n",
       "3         71\n",
       "4         73\n",
       "       ...  \n",
       "660    15444\n",
       "661    15555\n",
       "662    15813\n",
       "663    19171\n",
       "664    19172\n",
       "Name: Stations_id, Length: 665, dtype: int32"
      ]
     },
     "execution_count": 6,
     "metadata": {},
     "output_type": "execute_result"
    }
   ],
   "source": [
    "stations[['geoBreite', 'geoLaenge']].astype('float')\n",
    "stations.Stations_id.astype('int32')"
   ]
  },
  {
   "cell_type": "code",
   "execution_count": 7,
   "id": "8bfbf0b1",
   "metadata": {},
   "outputs": [
    {
     "data": {
      "text/plain": [
       "Stations_id        int64\n",
       "von_datum          int64\n",
       "bis_datum          int64\n",
       "Stationshoehe      int64\n",
       "geoBreite        float64\n",
       "geoLaenge        float64\n",
       "Stationsname      object\n",
       "Bundesland        object\n",
       "dtype: object"
      ]
     },
     "execution_count": 7,
     "metadata": {},
     "output_type": "execute_result"
    }
   ],
   "source": [
    "stations.dtypes"
   ]
  },
  {
   "cell_type": "code",
   "execution_count": 8,
   "id": "60f7f71c",
   "metadata": {
    "scrolled": false
   },
   "outputs": [
    {
     "data": {
      "image/png": "[encoded data removed]",
      "text/plain": [
       "<Figure size 864x720 with 1 Axes>"
      ]
     },
     "metadata": {},
     "output_type": "display_data"
    }
   ],
   "source": [
    "plt.figure(figsize = (12, 10))\n",
    "m = Basemap(projection = \"merc\", llcrnrlat = 46.5, llcrnrlon = 5, urcrnrlat = 56, urcrnrlon = 15.5, resolution = 'l')\n",
    "x, y = m(stations.geoLaenge.tolist(), stations.geoBreite.tolist())\n",
    "\n",
    "m.drawcoastlines()\n",
    "m.drawcountries()\n",
    "m.fillcontinents(color = \"lightgreen\", lake_color = \"aqua\")\n",
    "m.drawmapboundary(fill_color = \"aqua\")\n",
    "\n",
    "m.plot(x, y, \"o\", markersize = 2, color = \"red\")\n",
    "plt.show()"
   ]
  },
  {
   "cell_type": "markdown",
   "id": "943a7f3e",
   "metadata": {},
   "source": [
    "Now I choose four stations in different parts of Germany. After looking at a climate map of Germany, these four point represent the two main types of climate temperate and continental."
   ]
  },
  {
   "cell_type": "code",
   "execution_count": 9,
   "id": "a212614e",
   "metadata": {
    "scrolled": true
   },
   "outputs": [
    {
     "data": {
      "text/html": [
       "<div>\n",
       "<style scoped>\n",
       "    .dataframe tbody tr th:only-of-type {\n",
       "        vertical-align: middle;\n",
       "    }\n",
       "\n",
       "    .dataframe tbody tr th {\n",
       "        vertical-align: top;\n",
       "    }\n",
       "\n",
       "    .dataframe thead th {\n",
       "        text-align: right;\n",
       "    }\n",
       "</style>\n",
       "<table border=\"1\" class=\"dataframe\">\n",
       "  <thead>\n",
       "    <tr style=\"text-align: right;\">\n",
       "      <th></th>\n",
       "      <th>Stations_id</th>\n",
       "      <th>von_datum</th>\n",
       "      <th>bis_datum</th>\n",
       "      <th>Stationshoehe</th>\n",
       "      <th>geoBreite</th>\n",
       "      <th>geoLaenge</th>\n",
       "      <th>Stationsname</th>\n",
       "      <th>Bundesland</th>\n",
       "    </tr>\n",
       "  </thead>\n",
       "  <tbody>\n",
       "    <tr>\n",
       "      <th>1</th>\n",
       "      <td>44</td>\n",
       "      <td>20070401</td>\n",
       "      <td>20220829</td>\n",
       "      <td>44</td>\n",
       "      <td>52.9336</td>\n",
       "      <td>8.237</td>\n",
       "      <td>Gro�enkneten</td>\n",
       "      <td>Niedersachsen</td>\n",
       "    </tr>\n",
       "  </tbody>\n",
       "</table>\n",
       "</div>"
      ],
      "text/plain": [
       "   Stations_id  von_datum  bis_datum  Stationshoehe  geoBreite  geoLaenge  \\\n",
       "1           44   20070401   20220829             44    52.9336      8.237   \n",
       "\n",
       "   Stationsname     Bundesland  \n",
       "1  Gro�enkneten  Niedersachsen  "
      ]
     },
     "execution_count": 9,
     "metadata": {},
     "output_type": "execute_result"
    }
   ],
   "source": [
    "stations[stations.Stations_id == 44]"
   ]
  },
  {
   "cell_type": "code",
   "execution_count": 10,
   "id": "e91915ac",
   "metadata": {
    "scrolled": true
   },
   "outputs": [
    {
     "data": {
      "text/html": [
       "<div>\n",
       "<style scoped>\n",
       "    .dataframe tbody tr th:only-of-type {\n",
       "        vertical-align: middle;\n",
       "    }\n",
       "\n",
       "    .dataframe tbody tr th {\n",
       "        vertical-align: top;\n",
       "    }\n",
       "\n",
       "    .dataframe thead th {\n",
       "        text-align: right;\n",
       "    }\n",
       "</style>\n",
       "<table border=\"1\" class=\"dataframe\">\n",
       "  <thead>\n",
       "    <tr style=\"text-align: right;\">\n",
       "      <th></th>\n",
       "      <th>Stations_id</th>\n",
       "      <th>von_datum</th>\n",
       "      <th>bis_datum</th>\n",
       "      <th>Stationshoehe</th>\n",
       "      <th>geoBreite</th>\n",
       "      <th>geoLaenge</th>\n",
       "      <th>Stationsname</th>\n",
       "      <th>Bundesland</th>\n",
       "    </tr>\n",
       "  </thead>\n",
       "  <tbody>\n",
       "    <tr>\n",
       "      <th>34</th>\n",
       "      <td>303</td>\n",
       "      <td>19930819</td>\n",
       "      <td>20220823</td>\n",
       "      <td>54</td>\n",
       "      <td>52.0613</td>\n",
       "      <td>13.4997</td>\n",
       "      <td>Baruth</td>\n",
       "      <td>Brandenburg</td>\n",
       "    </tr>\n",
       "  </tbody>\n",
       "</table>\n",
       "</div>"
      ],
      "text/plain": [
       "    Stations_id  von_datum  bis_datum  Stationshoehe  geoBreite  geoLaenge  \\\n",
       "34          303   19930819   20220823             54    52.0613    13.4997   \n",
       "\n",
       "   Stationsname   Bundesland  \n",
       "34       Baruth  Brandenburg  "
      ]
     },
     "execution_count": 10,
     "metadata": {},
     "output_type": "execute_result"
    }
   ],
   "source": [
    "stations[stations.Stations_id == 303]"
   ]
  },
  {
   "cell_type": "code",
   "execution_count": 11,
   "id": "b9323a49",
   "metadata": {},
   "outputs": [
    {
     "data": {
      "text/html": [
       "<div>\n",
       "<style scoped>\n",
       "    .dataframe tbody tr th:only-of-type {\n",
       "        vertical-align: middle;\n",
       "    }\n",
       "\n",
       "    .dataframe tbody tr th {\n",
       "        vertical-align: top;\n",
       "    }\n",
       "\n",
       "    .dataframe thead th {\n",
       "        text-align: right;\n",
       "    }\n",
       "</style>\n",
       "<table border=\"1\" class=\"dataframe\">\n",
       "  <thead>\n",
       "    <tr style=\"text-align: right;\">\n",
       "      <th></th>\n",
       "      <th>Stations_id</th>\n",
       "      <th>von_datum</th>\n",
       "      <th>bis_datum</th>\n",
       "      <th>Stationshoehe</th>\n",
       "      <th>geoBreite</th>\n",
       "      <th>geoLaenge</th>\n",
       "      <th>Stationsname</th>\n",
       "      <th>Bundesland</th>\n",
       "    </tr>\n",
       "  </thead>\n",
       "  <tbody>\n",
       "    <tr>\n",
       "      <th>117</th>\n",
       "      <td>1161</td>\n",
       "      <td>20050201</td>\n",
       "      <td>20220829</td>\n",
       "      <td>384</td>\n",
       "      <td>48.8777</td>\n",
       "      <td>11.2349</td>\n",
       "      <td>Eichst�tt-Landershofen</td>\n",
       "      <td>Bayern</td>\n",
       "    </tr>\n",
       "  </tbody>\n",
       "</table>\n",
       "</div>"
      ],
      "text/plain": [
       "     Stations_id  von_datum  bis_datum  Stationshoehe  geoBreite  geoLaenge  \\\n",
       "117         1161   20050201   20220829            384    48.8777    11.2349   \n",
       "\n",
       "               Stationsname Bundesland  \n",
       "117  Eichst�tt-Landershofen     Bayern  "
      ]
     },
     "execution_count": 11,
     "metadata": {},
     "output_type": "execute_result"
    }
   ],
   "source": [
    "stations[stations.Stations_id == 1161]"
   ]
  },
  {
   "cell_type": "code",
   "execution_count": 12,
   "id": "82d48c6a",
   "metadata": {
    "scrolled": false
   },
   "outputs": [
    {
     "data": {
      "text/html": [
       "<div>\n",
       "<style scoped>\n",
       "    .dataframe tbody tr th:only-of-type {\n",
       "        vertical-align: middle;\n",
       "    }\n",
       "\n",
       "    .dataframe tbody tr th {\n",
       "        vertical-align: top;\n",
       "    }\n",
       "\n",
       "    .dataframe thead th {\n",
       "        text-align: right;\n",
       "    }\n",
       "</style>\n",
       "<table border=\"1\" class=\"dataframe\">\n",
       "  <thead>\n",
       "    <tr style=\"text-align: right;\">\n",
       "      <th></th>\n",
       "      <th>Stations_id</th>\n",
       "      <th>von_datum</th>\n",
       "      <th>bis_datum</th>\n",
       "      <th>Stationshoehe</th>\n",
       "      <th>geoBreite</th>\n",
       "      <th>geoLaenge</th>\n",
       "      <th>Stationsname</th>\n",
       "      <th>Bundesland</th>\n",
       "    </tr>\n",
       "  </thead>\n",
       "  <tbody>\n",
       "    <tr>\n",
       "      <th>69</th>\n",
       "      <td>603</td>\n",
       "      <td>20010403</td>\n",
       "      <td>20220829</td>\n",
       "      <td>147</td>\n",
       "      <td>50.7293</td>\n",
       "      <td>7.204</td>\n",
       "      <td>K�nigswinter-Heiderhof</td>\n",
       "      <td>Nordrhein-Westfalen</td>\n",
       "    </tr>\n",
       "  </tbody>\n",
       "</table>\n",
       "</div>"
      ],
      "text/plain": [
       "    Stations_id  von_datum  bis_datum  Stationshoehe  geoBreite  geoLaenge  \\\n",
       "69          603   20010403   20220829            147    50.7293      7.204   \n",
       "\n",
       "              Stationsname           Bundesland  \n",
       "69  K�nigswinter-Heiderhof  Nordrhein-Westfalen  "
      ]
     },
     "execution_count": 12,
     "metadata": {},
     "output_type": "execute_result"
    }
   ],
   "source": [
    "stations[stations.Stations_id == 603]"
   ]
  },
  {
   "cell_type": "code",
   "execution_count": 13,
   "id": "014b97ce",
   "metadata": {},
   "outputs": [],
   "source": [
    "chosen_stations_index = [1,34,117,69]"
   ]
  },
  {
   "cell_type": "code",
   "execution_count": 14,
   "id": "4fc6b8ac",
   "metadata": {},
   "outputs": [],
   "source": [
    "chosen_stations = stations.iloc[chosen_stations_index]"
   ]
  },
  {
   "cell_type": "code",
   "execution_count": 15,
   "id": "fea48864",
   "metadata": {
    "scrolled": false
   },
   "outputs": [
    {
     "data": {
      "image/png": "[encoded data removed]",
      "text/plain": [
       "<Figure size 864x720 with 1 Axes>"
      ]
     },
     "metadata": {},
     "output_type": "display_data"
    }
   ],
   "source": [
    "plt.figure(figsize = (12, 10))\n",
    "m = Basemap(projection = \"merc\", llcrnrlat = 46.5, llcrnrlon = 5, urcrnrlat = 56, urcrnrlon = 15.5, resolution = 'l')\n",
    "x, y = m(chosen_stations.geoLaenge.tolist(), chosen_stations.geoBreite.tolist())\n",
    "\n",
    "m.drawcoastlines()\n",
    "m.drawcountries()\n",
    "m.fillcontinents(color = \"lightgreen\", lake_color = \"aqua\")\n",
    "m.drawmapboundary(fill_color = \"aqua\")\n",
    "\n",
    "m.plot(x, y, \"o\", markersize = 5, color = \"red\")\n",
    "plt.show()"
   ]
  },
  {
   "cell_type": "markdown",
   "id": "965cc1ad",
   "metadata": {},
   "source": [
    "### 2. Getting data for electricity consumption.\n",
    "I take the data on electricity consumption I use the data from www.entsoe.eu, which has data from many different transmission systemic operators. I will use data for four years (to comply with the requirement for min 20000 rows). The last available full year is 2018, so I will use the data for 2015-2018."
   ]
  },
  {
   "cell_type": "code",
   "execution_count": 16,
   "id": "331a3a72",
   "metadata": {},
   "outputs": [],
   "source": [
    "power_1 = pd.read_excel('data/MHLV_data-2015-2017.xlsx', sheet_name = '2015-2017')\n",
    "power_2 = pd.read_excel('data/MHLV_data-2015-2017.xlsx', sheet_name = '2018-2019')"
   ]
  },
  {
   "cell_type": "markdown",
   "id": "afc2631c",
   "metadata": {},
   "source": [
    "It takes 3-4 min. on my very old laptop."
   ]
  },
  {
   "cell_type": "code",
   "execution_count": 17,
   "id": "84c46f7d",
   "metadata": {},
   "outputs": [
    {
     "data": {
      "text/plain": [
       "((631600, 9), (476960, 9))"
      ]
     },
     "execution_count": 17,
     "metadata": {},
     "output_type": "execute_result"
    }
   ],
   "source": [
    "power_1.shape, power_2.shape"
   ]
  },
  {
   "cell_type": "code",
   "execution_count": 18,
   "id": "e3b693ed",
   "metadata": {},
   "outputs": [
    {
     "data": {
      "text/plain": [
       "(MeasureItem                 object\n",
       " DateUTC             datetime64[ns]\n",
       " DateShort           datetime64[ns]\n",
       " TimeFrom                    object\n",
       " TimeTo                      object\n",
       " CountryCode                 object\n",
       " Cov_ratio                    int64\n",
       " Value                      float64\n",
       " Value_ScaleTo100           float64\n",
       " dtype: object,\n",
       " MeasureItem                 object\n",
       " DateUTC             datetime64[ns]\n",
       " DateShort           datetime64[ns]\n",
       " TimeFrom                    object\n",
       " TimeTo                      object\n",
       " CountryCode                 object\n",
       " Cov_ratio                    int64\n",
       " Value                      float64\n",
       " Value_ScaleTo100           float64\n",
       " dtype: object)"
      ]
     },
     "execution_count": 18,
     "metadata": {},
     "output_type": "execute_result"
    }
   ],
   "source": [
    "power_1.dtypes, power_2.dtypes"
   ]
  },
  {
   "cell_type": "code",
   "execution_count": 19,
   "id": "325aa100",
   "metadata": {},
   "outputs": [],
   "source": [
    "power_1 = power_1.loc[power_1['CountryCode'] == 'DE']\n",
    "power_1 = power_1.drop([0])"
   ]
  },
  {
   "cell_type": "code",
   "execution_count": 20,
   "id": "23b26201",
   "metadata": {},
   "outputs": [],
   "source": [
    "power_2 = power_2.loc[power_2['CountryCode'] == 'DE']\n",
    "power_2 = power_2[power_2.DateShort < '2019-01-01']"
   ]
  },
  {
   "cell_type": "code",
   "execution_count": 21,
   "id": "39b0d51d",
   "metadata": {},
   "outputs": [],
   "source": [
    "power = pd.concat([power_1, power_2])\n",
    "power = power.drop(['MeasureItem', 'CountryCode', 'Cov_ratio', 'Value'], axis = 1)\n",
    "power = power.rename(columns={'Value_ScaleTo100': 'Value'})"
   ]
  },
  {
   "cell_type": "code",
   "execution_count": 22,
   "id": "bd1f8505",
   "metadata": {},
   "outputs": [
    {
     "data": {
      "text/plain": [
       "(35064, 5)"
      ]
     },
     "execution_count": 22,
     "metadata": {},
     "output_type": "execute_result"
    }
   ],
   "source": [
    "power.shape"
   ]
  },
  {
   "cell_type": "markdown",
   "id": "7808e13f",
   "metadata": {},
   "source": [
    "I see that the dataframe has 35064 rows, which is great, because 365x24x4 = 35040, and 35040 + 24 = 35064, because 2016 is a leap year.   "
   ]
  },
  {
   "cell_type": "code",
   "execution_count": 23,
   "id": "0d99b753",
   "metadata": {},
   "outputs": [
    {
     "data": {
      "text/plain": [
       "False    35064\n",
       "Name: Value, dtype: int64"
      ]
     },
     "execution_count": 23,
     "metadata": {},
     "output_type": "execute_result"
    }
   ],
   "source": [
    "power.isna().Value.value_counts()"
   ]
  },
  {
   "cell_type": "code",
   "execution_count": 24,
   "id": "9e1a9c17",
   "metadata": {
    "scrolled": false
   },
   "outputs": [
    {
     "data": {
      "text/html": [
       "<div>\n",
       "<style scoped>\n",
       "    .dataframe tbody tr th:only-of-type {\n",
       "        vertical-align: middle;\n",
       "    }\n",
       "\n",
       "    .dataframe tbody tr th {\n",
       "        vertical-align: top;\n",
       "    }\n",
       "\n",
       "    .dataframe thead th {\n",
       "        text-align: right;\n",
       "    }\n",
       "</style>\n",
       "<table border=\"1\" class=\"dataframe\">\n",
       "  <thead>\n",
       "    <tr style=\"text-align: right;\">\n",
       "      <th></th>\n",
       "      <th>DateUTC</th>\n",
       "      <th>DateShort</th>\n",
       "      <th>TimeFrom</th>\n",
       "      <th>TimeTo</th>\n",
       "      <th>Value</th>\n",
       "    </tr>\n",
       "  </thead>\n",
       "  <tbody>\n",
       "    <tr>\n",
       "      <th>1</th>\n",
       "      <td>2015-01-01 00:00:00</td>\n",
       "      <td>2015-01-01</td>\n",
       "      <td>00:00:00</td>\n",
       "      <td>01:00:00</td>\n",
       "      <td>45814.591837</td>\n",
       "    </tr>\n",
       "    <tr>\n",
       "      <th>2</th>\n",
       "      <td>2015-01-01 01:00:00</td>\n",
       "      <td>2015-01-01</td>\n",
       "      <td>01:00:00</td>\n",
       "      <td>02:00:00</td>\n",
       "      <td>44189.091837</td>\n",
       "    </tr>\n",
       "    <tr>\n",
       "      <th>3</th>\n",
       "      <td>2015-01-01 02:00:00</td>\n",
       "      <td>2015-01-01</td>\n",
       "      <td>02:00:00</td>\n",
       "      <td>03:00:00</td>\n",
       "      <td>42773.642857</td>\n",
       "    </tr>\n",
       "    <tr>\n",
       "      <th>4</th>\n",
       "      <td>2015-01-01 03:00:00</td>\n",
       "      <td>2015-01-01</td>\n",
       "      <td>03:00:00</td>\n",
       "      <td>04:00:00</td>\n",
       "      <td>42173.642857</td>\n",
       "    </tr>\n",
       "    <tr>\n",
       "      <th>5</th>\n",
       "      <td>2015-01-01 04:00:00</td>\n",
       "      <td>2015-01-01</td>\n",
       "      <td>04:00:00</td>\n",
       "      <td>05:00:00</td>\n",
       "      <td>41472.581633</td>\n",
       "    </tr>\n",
       "    <tr>\n",
       "      <th>...</th>\n",
       "      <td>...</td>\n",
       "      <td>...</td>\n",
       "      <td>...</td>\n",
       "      <td>...</td>\n",
       "      <td>...</td>\n",
       "    </tr>\n",
       "    <tr>\n",
       "      <th>316416</th>\n",
       "      <td>2018-12-31 19:00:00</td>\n",
       "      <td>2018-12-31</td>\n",
       "      <td>19:00:00</td>\n",
       "      <td>20:00:00</td>\n",
       "      <td>51404.153061</td>\n",
       "    </tr>\n",
       "    <tr>\n",
       "      <th>316453</th>\n",
       "      <td>2018-12-31 20:00:00</td>\n",
       "      <td>2018-12-31</td>\n",
       "      <td>20:00:00</td>\n",
       "      <td>21:00:00</td>\n",
       "      <td>49750.295918</td>\n",
       "    </tr>\n",
       "    <tr>\n",
       "      <th>316490</th>\n",
       "      <td>2018-12-31 21:00:00</td>\n",
       "      <td>2018-12-31</td>\n",
       "      <td>21:00:00</td>\n",
       "      <td>22:00:00</td>\n",
       "      <td>49220.000000</td>\n",
       "    </tr>\n",
       "    <tr>\n",
       "      <th>316527</th>\n",
       "      <td>2018-12-31 22:00:00</td>\n",
       "      <td>2018-12-31</td>\n",
       "      <td>22:00:00</td>\n",
       "      <td>23:00:00</td>\n",
       "      <td>47147.918367</td>\n",
       "    </tr>\n",
       "    <tr>\n",
       "      <th>316559</th>\n",
       "      <td>2018-12-31 23:00:00</td>\n",
       "      <td>2018-12-31</td>\n",
       "      <td>23:00:00</td>\n",
       "      <td>00:00:00</td>\n",
       "      <td>44231.183673</td>\n",
       "    </tr>\n",
       "  </tbody>\n",
       "</table>\n",
       "<p>35064 rows × 5 columns</p>\n",
       "</div>"
      ],
      "text/plain": [
       "                   DateUTC  DateShort  TimeFrom    TimeTo         Value\n",
       "1      2015-01-01 00:00:00 2015-01-01  00:00:00  01:00:00  45814.591837\n",
       "2      2015-01-01 01:00:00 2015-01-01  01:00:00  02:00:00  44189.091837\n",
       "3      2015-01-01 02:00:00 2015-01-01  02:00:00  03:00:00  42773.642857\n",
       "4      2015-01-01 03:00:00 2015-01-01  03:00:00  04:00:00  42173.642857\n",
       "5      2015-01-01 04:00:00 2015-01-01  04:00:00  05:00:00  41472.581633\n",
       "...                    ...        ...       ...       ...           ...\n",
       "316416 2018-12-31 19:00:00 2018-12-31  19:00:00  20:00:00  51404.153061\n",
       "316453 2018-12-31 20:00:00 2018-12-31  20:00:00  21:00:00  49750.295918\n",
       "316490 2018-12-31 21:00:00 2018-12-31  21:00:00  22:00:00  49220.000000\n",
       "316527 2018-12-31 22:00:00 2018-12-31  22:00:00  23:00:00  47147.918367\n",
       "316559 2018-12-31 23:00:00 2018-12-31  23:00:00  00:00:00  44231.183673\n",
       "\n",
       "[35064 rows x 5 columns]"
      ]
     },
     "execution_count": 24,
     "metadata": {},
     "output_type": "execute_result"
    }
   ],
   "source": [
    "power"
   ]
  },
  {
   "cell_type": "markdown",
   "id": "9444b66b",
   "metadata": {},
   "source": [
    "### 3. Cleaning and tydiing temperature data.\n",
    "Now I turn to the temperature data. As I will use 4 stations I figured, I can optimize my work with the help of a function that will bring the data frames closer to the desired format.  "
   ]
  },
  {
   "cell_type": "code",
   "execution_count": 25,
   "id": "f43b76f5",
   "metadata": {},
   "outputs": [],
   "source": [
    "def proper_date (df):\n",
    "    \"\"\"\n",
    "    Returns the dataframe with date in the desired format, the desired period and desired columns.\n",
    "    \"\"\"\n",
    "    df.MESS_DATUM = df.MESS_DATUM.astype('str')\n",
    "    df['year'] = df.MESS_DATUM.str.slice(stop = 4)\n",
    "    df['month'] = df.MESS_DATUM.str.slice(start = 4, stop = 6)\n",
    "    df['day'] = df.MESS_DATUM.str.slice(start = 6, stop = 8)\n",
    "    df['hour'] = df.MESS_DATUM.str.slice(start = 8)\n",
    "    df[['year', 'month', 'day', 'hour']] = df[['year', 'month', 'day', 'hour']].astype('int32')\n",
    "    df['date'] = pd.to_datetime(df[['year', 'month', 'day', 'hour']])\n",
    "    df = df[df.date < '2019-01-01']\n",
    "    df = df[df.date >= '2015-01-01']\n",
    "    df_proper_date = df[['STATIONS_ID', 'date', 'TT_TU']]\n",
    "    return df_proper_date"
   ]
  },
  {
   "cell_type": "code",
   "execution_count": 26,
   "id": "4443e254",
   "metadata": {},
   "outputs": [],
   "source": [
    "st_44 = pd.read_csv('data/produkt_tu_stunde_20070401_20211231_00044.txt', sep = ';')"
   ]
  },
  {
   "cell_type": "code",
   "execution_count": 27,
   "id": "76f2deda",
   "metadata": {},
   "outputs": [],
   "source": [
    "st_44 = proper_date(st_44)"
   ]
  },
  {
   "cell_type": "code",
   "execution_count": 28,
   "id": "064534b6",
   "metadata": {},
   "outputs": [
    {
     "data": {
      "text/html": [
       "<div>\n",
       "<style scoped>\n",
       "    .dataframe tbody tr th:only-of-type {\n",
       "        vertical-align: middle;\n",
       "    }\n",
       "\n",
       "    .dataframe tbody tr th {\n",
       "        vertical-align: top;\n",
       "    }\n",
       "\n",
       "    .dataframe thead th {\n",
       "        text-align: right;\n",
       "    }\n",
       "</style>\n",
       "<table border=\"1\" class=\"dataframe\">\n",
       "  <thead>\n",
       "    <tr style=\"text-align: right;\">\n",
       "      <th></th>\n",
       "      <th>STATIONS_ID</th>\n",
       "      <th>date</th>\n",
       "      <th>TT_TU</th>\n",
       "    </tr>\n",
       "  </thead>\n",
       "  <tbody>\n",
       "    <tr>\n",
       "      <th>67187</th>\n",
       "      <td>44</td>\n",
       "      <td>2015-01-01 00:00:00</td>\n",
       "      <td>2.2</td>\n",
       "    </tr>\n",
       "    <tr>\n",
       "      <th>67188</th>\n",
       "      <td>44</td>\n",
       "      <td>2015-01-01 01:00:00</td>\n",
       "      <td>2.5</td>\n",
       "    </tr>\n",
       "    <tr>\n",
       "      <th>67189</th>\n",
       "      <td>44</td>\n",
       "      <td>2015-01-01 02:00:00</td>\n",
       "      <td>2.3</td>\n",
       "    </tr>\n",
       "    <tr>\n",
       "      <th>67190</th>\n",
       "      <td>44</td>\n",
       "      <td>2015-01-01 03:00:00</td>\n",
       "      <td>2.3</td>\n",
       "    </tr>\n",
       "    <tr>\n",
       "      <th>67191</th>\n",
       "      <td>44</td>\n",
       "      <td>2015-01-01 04:00:00</td>\n",
       "      <td>1.9</td>\n",
       "    </tr>\n",
       "    <tr>\n",
       "      <th>...</th>\n",
       "      <td>...</td>\n",
       "      <td>...</td>\n",
       "      <td>...</td>\n",
       "    </tr>\n",
       "    <tr>\n",
       "      <th>102238</th>\n",
       "      <td>44</td>\n",
       "      <td>2018-12-31 19:00:00</td>\n",
       "      <td>8.8</td>\n",
       "    </tr>\n",
       "    <tr>\n",
       "      <th>102239</th>\n",
       "      <td>44</td>\n",
       "      <td>2018-12-31 20:00:00</td>\n",
       "      <td>8.6</td>\n",
       "    </tr>\n",
       "    <tr>\n",
       "      <th>102240</th>\n",
       "      <td>44</td>\n",
       "      <td>2018-12-31 21:00:00</td>\n",
       "      <td>8.6</td>\n",
       "    </tr>\n",
       "    <tr>\n",
       "      <th>102241</th>\n",
       "      <td>44</td>\n",
       "      <td>2018-12-31 22:00:00</td>\n",
       "      <td>8.5</td>\n",
       "    </tr>\n",
       "    <tr>\n",
       "      <th>102242</th>\n",
       "      <td>44</td>\n",
       "      <td>2018-12-31 23:00:00</td>\n",
       "      <td>7.8</td>\n",
       "    </tr>\n",
       "  </tbody>\n",
       "</table>\n",
       "<p>35056 rows × 3 columns</p>\n",
       "</div>"
      ],
      "text/plain": [
       "        STATIONS_ID                date  TT_TU\n",
       "67187            44 2015-01-01 00:00:00    2.2\n",
       "67188            44 2015-01-01 01:00:00    2.5\n",
       "67189            44 2015-01-01 02:00:00    2.3\n",
       "67190            44 2015-01-01 03:00:00    2.3\n",
       "67191            44 2015-01-01 04:00:00    1.9\n",
       "...             ...                 ...    ...\n",
       "102238           44 2018-12-31 19:00:00    8.8\n",
       "102239           44 2018-12-31 20:00:00    8.6\n",
       "102240           44 2018-12-31 21:00:00    8.6\n",
       "102241           44 2018-12-31 22:00:00    8.5\n",
       "102242           44 2018-12-31 23:00:00    7.8\n",
       "\n",
       "[35056 rows x 3 columns]"
      ]
     },
     "execution_count": 28,
     "metadata": {},
     "output_type": "execute_result"
    }
   ],
   "source": [
    "st_44"
   ]
  },
  {
   "cell_type": "code",
   "execution_count": 29,
   "id": "9b9292dd",
   "metadata": {},
   "outputs": [
    {
     "data": {
      "text/plain": [
       "False    35056\n",
       "Name: TT_TU, dtype: int64"
      ]
     },
     "execution_count": 29,
     "metadata": {},
     "output_type": "execute_result"
    }
   ],
   "source": [
    "st_44.isna().TT_TU.value_counts()"
   ]
  },
  {
   "cell_type": "code",
   "execution_count": 30,
   "id": "8e5e2fee",
   "metadata": {},
   "outputs": [
    {
     "data": {
      "text/plain": [
       "True    35056\n",
       "Name: date, dtype: int64"
      ]
     },
     "execution_count": 30,
     "metadata": {},
     "output_type": "execute_result"
    }
   ],
   "source": [
    "st_44['date'].isin(power['DateUTC']).value_counts()"
   ]
  },
  {
   "cell_type": "code",
   "execution_count": 31,
   "id": "d629e33f",
   "metadata": {
    "scrolled": true
   },
   "outputs": [
    {
     "data": {
      "text/plain": [
       "True     35056\n",
       "False        8\n",
       "Name: DateUTC, dtype: int64"
      ]
     },
     "execution_count": 31,
     "metadata": {},
     "output_type": "execute_result"
    }
   ],
   "source": [
    "power['DateUTC'].isin(st_44['date']).value_counts()"
   ]
  },
  {
   "cell_type": "markdown",
   "id": "e84deabc",
   "metadata": {},
   "source": [
    "Here I see that there are 8 date entries missing from the data for this station."
   ]
  },
  {
   "cell_type": "code",
   "execution_count": 32,
   "id": "228daee7",
   "metadata": {},
   "outputs": [],
   "source": [
    "missing = power[power['DateUTC'].isin(st_44['date']) == False]"
   ]
  },
  {
   "cell_type": "markdown",
   "id": "2b51e010",
   "metadata": {},
   "source": [
    "I will use the power dataframe to fill the missing values in the st_44 dataframe."
   ]
  },
  {
   "cell_type": "code",
   "execution_count": 33,
   "id": "048ccf40",
   "metadata": {},
   "outputs": [
    {
     "data": {
      "text/html": [
       "<div>\n",
       "<style scoped>\n",
       "    .dataframe tbody tr th:only-of-type {\n",
       "        vertical-align: middle;\n",
       "    }\n",
       "\n",
       "    .dataframe tbody tr th {\n",
       "        vertical-align: top;\n",
       "    }\n",
       "\n",
       "    .dataframe thead th {\n",
       "        text-align: right;\n",
       "    }\n",
       "</style>\n",
       "<table border=\"1\" class=\"dataframe\">\n",
       "  <thead>\n",
       "    <tr style=\"text-align: right;\">\n",
       "      <th></th>\n",
       "      <th>DateUTC</th>\n",
       "      <th>DateShort</th>\n",
       "      <th>TimeFrom</th>\n",
       "      <th>TimeTo</th>\n",
       "      <th>Value</th>\n",
       "    </tr>\n",
       "  </thead>\n",
       "  <tbody>\n",
       "    <tr>\n",
       "      <th>4400</th>\n",
       "      <td>2015-07-03 07:00:00</td>\n",
       "      <td>2015-07-03</td>\n",
       "      <td>07:00:00</td>\n",
       "      <td>08:00:00</td>\n",
       "      <td>70182.122449</td>\n",
       "    </tr>\n",
       "    <tr>\n",
       "      <th>4401</th>\n",
       "      <td>2015-07-03 08:00:00</td>\n",
       "      <td>2015-07-03</td>\n",
       "      <td>08:00:00</td>\n",
       "      <td>09:00:00</td>\n",
       "      <td>71765.877551</td>\n",
       "    </tr>\n",
       "    <tr>\n",
       "      <th>4402</th>\n",
       "      <td>2015-07-03 09:00:00</td>\n",
       "      <td>2015-07-03</td>\n",
       "      <td>09:00:00</td>\n",
       "      <td>10:00:00</td>\n",
       "      <td>72858.867347</td>\n",
       "    </tr>\n",
       "    <tr>\n",
       "      <th>4403</th>\n",
       "      <td>2015-07-03 10:00:00</td>\n",
       "      <td>2015-07-03</td>\n",
       "      <td>10:00:00</td>\n",
       "      <td>11:00:00</td>\n",
       "      <td>71969.040816</td>\n",
       "    </tr>\n",
       "    <tr>\n",
       "      <th>4404</th>\n",
       "      <td>2015-07-03 11:00:00</td>\n",
       "      <td>2015-07-03</td>\n",
       "      <td>11:00:00</td>\n",
       "      <td>12:00:00</td>\n",
       "      <td>70796.979592</td>\n",
       "    </tr>\n",
       "    <tr>\n",
       "      <th>4405</th>\n",
       "      <td>2015-07-03 12:00:00</td>\n",
       "      <td>2015-07-03</td>\n",
       "      <td>12:00:00</td>\n",
       "      <td>13:00:00</td>\n",
       "      <td>69084.040816</td>\n",
       "    </tr>\n",
       "    <tr>\n",
       "      <th>4407</th>\n",
       "      <td>2015-07-03 14:00:00</td>\n",
       "      <td>2015-07-03</td>\n",
       "      <td>14:00:00</td>\n",
       "      <td>15:00:00</td>\n",
       "      <td>66249.122449</td>\n",
       "    </tr>\n",
       "    <tr>\n",
       "      <th>4408</th>\n",
       "      <td>2015-07-03 15:00:00</td>\n",
       "      <td>2015-07-03</td>\n",
       "      <td>15:00:00</td>\n",
       "      <td>16:00:00</td>\n",
       "      <td>65640.408163</td>\n",
       "    </tr>\n",
       "  </tbody>\n",
       "</table>\n",
       "</div>"
      ],
      "text/plain": [
       "                 DateUTC  DateShort  TimeFrom    TimeTo         Value\n",
       "4400 2015-07-03 07:00:00 2015-07-03  07:00:00  08:00:00  70182.122449\n",
       "4401 2015-07-03 08:00:00 2015-07-03  08:00:00  09:00:00  71765.877551\n",
       "4402 2015-07-03 09:00:00 2015-07-03  09:00:00  10:00:00  72858.867347\n",
       "4403 2015-07-03 10:00:00 2015-07-03  10:00:00  11:00:00  71969.040816\n",
       "4404 2015-07-03 11:00:00 2015-07-03  11:00:00  12:00:00  70796.979592\n",
       "4405 2015-07-03 12:00:00 2015-07-03  12:00:00  13:00:00  69084.040816\n",
       "4407 2015-07-03 14:00:00 2015-07-03  14:00:00  15:00:00  66249.122449\n",
       "4408 2015-07-03 15:00:00 2015-07-03  15:00:00  16:00:00  65640.408163"
      ]
     },
     "execution_count": 33,
     "metadata": {},
     "output_type": "execute_result"
    }
   ],
   "source": [
    "missing"
   ]
  },
  {
   "cell_type": "code",
   "execution_count": 34,
   "id": "db8e95c0",
   "metadata": {},
   "outputs": [
    {
     "data": {
      "text/html": [
       "<div>\n",
       "<style scoped>\n",
       "    .dataframe tbody tr th:only-of-type {\n",
       "        vertical-align: middle;\n",
       "    }\n",
       "\n",
       "    .dataframe tbody tr th {\n",
       "        vertical-align: top;\n",
       "    }\n",
       "\n",
       "    .dataframe thead th {\n",
       "        text-align: right;\n",
       "    }\n",
       "</style>\n",
       "<table border=\"1\" class=\"dataframe\">\n",
       "  <thead>\n",
       "    <tr style=\"text-align: right;\">\n",
       "      <th></th>\n",
       "      <th>date</th>\n",
       "      <th>STATIONS_ID</th>\n",
       "      <th>TT_TU</th>\n",
       "    </tr>\n",
       "  </thead>\n",
       "  <tbody>\n",
       "    <tr>\n",
       "      <th>4400</th>\n",
       "      <td>2015-07-03 07:00:00</td>\n",
       "      <td>44</td>\n",
       "      <td>70182.122449</td>\n",
       "    </tr>\n",
       "    <tr>\n",
       "      <th>4401</th>\n",
       "      <td>2015-07-03 08:00:00</td>\n",
       "      <td>44</td>\n",
       "      <td>71765.877551</td>\n",
       "    </tr>\n",
       "    <tr>\n",
       "      <th>4402</th>\n",
       "      <td>2015-07-03 09:00:00</td>\n",
       "      <td>44</td>\n",
       "      <td>72858.867347</td>\n",
       "    </tr>\n",
       "    <tr>\n",
       "      <th>4403</th>\n",
       "      <td>2015-07-03 10:00:00</td>\n",
       "      <td>44</td>\n",
       "      <td>71969.040816</td>\n",
       "    </tr>\n",
       "    <tr>\n",
       "      <th>4404</th>\n",
       "      <td>2015-07-03 11:00:00</td>\n",
       "      <td>44</td>\n",
       "      <td>70796.979592</td>\n",
       "    </tr>\n",
       "    <tr>\n",
       "      <th>4405</th>\n",
       "      <td>2015-07-03 12:00:00</td>\n",
       "      <td>44</td>\n",
       "      <td>69084.040816</td>\n",
       "    </tr>\n",
       "    <tr>\n",
       "      <th>4407</th>\n",
       "      <td>2015-07-03 14:00:00</td>\n",
       "      <td>44</td>\n",
       "      <td>66249.122449</td>\n",
       "    </tr>\n",
       "    <tr>\n",
       "      <th>4408</th>\n",
       "      <td>2015-07-03 15:00:00</td>\n",
       "      <td>44</td>\n",
       "      <td>65640.408163</td>\n",
       "    </tr>\n",
       "  </tbody>\n",
       "</table>\n",
       "</div>"
      ],
      "text/plain": [
       "                    date  STATIONS_ID         TT_TU\n",
       "4400 2015-07-03 07:00:00           44  70182.122449\n",
       "4401 2015-07-03 08:00:00           44  71765.877551\n",
       "4402 2015-07-03 09:00:00           44  72858.867347\n",
       "4403 2015-07-03 10:00:00           44  71969.040816\n",
       "4404 2015-07-03 11:00:00           44  70796.979592\n",
       "4405 2015-07-03 12:00:00           44  69084.040816\n",
       "4407 2015-07-03 14:00:00           44  66249.122449\n",
       "4408 2015-07-03 15:00:00           44  65640.408163"
      ]
     },
     "execution_count": 34,
     "metadata": {},
     "output_type": "execute_result"
    }
   ],
   "source": [
    "missing = missing.rename(columns = {'DateUTC': 'date'})\n",
    "missing = missing[['date', 'TimeFrom', 'Value']]\n",
    "missing = missing.rename(columns = {'TimeFrom': 'STATIONS_ID'})\n",
    "missing.STATIONS_ID = 44\n",
    "missing = missing.rename(columns = {'Value': 'TT_TU'})\n",
    "missing"
   ]
  },
  {
   "cell_type": "markdown",
   "id": "f053a180",
   "metadata": {},
   "source": [
    "I look at the temperature the day before and the day after the day with the missing values to see what is the best way to replace them."
   ]
  },
  {
   "cell_type": "code",
   "execution_count": 35,
   "id": "4258c13d",
   "metadata": {
    "scrolled": true
   },
   "outputs": [
    {
     "data": {
      "text/plain": [
       "(       STATIONS_ID                date  TT_TU\n",
       " 71556           44 2015-07-02 01:00:00   18.7\n",
       " 71557           44 2015-07-02 02:00:00   18.0\n",
       " 71558           44 2015-07-02 03:00:00   17.0\n",
       " 71559           44 2015-07-02 04:00:00   16.8\n",
       " 71560           44 2015-07-02 05:00:00   18.2\n",
       " 71561           44 2015-07-02 06:00:00   20.3\n",
       " 71562           44 2015-07-02 07:00:00   22.4\n",
       " 71563           44 2015-07-02 08:00:00   24.9\n",
       " 71564           44 2015-07-02 09:00:00   26.0\n",
       " 71565           44 2015-07-02 10:00:00   27.5\n",
       " 71566           44 2015-07-02 11:00:00   29.2\n",
       " 71567           44 2015-07-02 12:00:00   30.3\n",
       " 71568           44 2015-07-02 13:00:00   31.7\n",
       " 71569           44 2015-07-02 14:00:00   31.9\n",
       " 71570           44 2015-07-02 15:00:00   32.7\n",
       " 71571           44 2015-07-02 16:00:00   32.1\n",
       " 71572           44 2015-07-02 17:00:00   31.7\n",
       " 71573           44 2015-07-02 18:00:00   31.0\n",
       " 71574           44 2015-07-02 19:00:00   28.5\n",
       " 71575           44 2015-07-02 20:00:00   25.5\n",
       " 71576           44 2015-07-02 21:00:00   25.6\n",
       " 71577           44 2015-07-02 22:00:00   24.7\n",
       " 71578           44 2015-07-02 23:00:00   22.9\n",
       " 71579           44 2015-07-03 00:00:00   22.0,\n",
       "        STATIONS_ID                date  TT_TU\n",
       " 71580           44 2015-07-03 01:00:00   22.3\n",
       " 71581           44 2015-07-03 02:00:00   22.1\n",
       " 71582           44 2015-07-03 03:00:00   19.2\n",
       " 71583           44 2015-07-03 04:00:00   19.2\n",
       " 71584           44 2015-07-03 05:00:00   18.8\n",
       " 71585           44 2015-07-03 06:00:00   19.3\n",
       " 71586           44 2015-07-03 13:00:00   28.8\n",
       " 71587           44 2015-07-03 16:00:00   27.2\n",
       " 71588           44 2015-07-03 17:00:00   26.9\n",
       " 71589           44 2015-07-03 18:00:00   25.8\n",
       " 71590           44 2015-07-03 19:00:00   25.0\n",
       " 71591           44 2015-07-03 20:00:00   23.0\n",
       " 71592           44 2015-07-03 21:00:00   21.8\n",
       " 71593           44 2015-07-03 22:00:00   21.1\n",
       " 71594           44 2015-07-03 23:00:00   20.6\n",
       " 71595           44 2015-07-04 00:00:00   19.6\n",
       " 71596           44 2015-07-04 01:00:00   19.0\n",
       " 71597           44 2015-07-04 02:00:00   18.8\n",
       " 71598           44 2015-07-04 03:00:00   18.3\n",
       " 71599           44 2015-07-04 04:00:00   18.6\n",
       " 71600           44 2015-07-04 05:00:00   20.3\n",
       " 71601           44 2015-07-04 06:00:00   22.1\n",
       " 71602           44 2015-07-04 07:00:00   23.4\n",
       " 71603           44 2015-07-04 08:00:00   25.7,\n",
       "        STATIONS_ID                date  TT_TU\n",
       " 71596           44 2015-07-04 01:00:00   19.0\n",
       " 71597           44 2015-07-04 02:00:00   18.8\n",
       " 71598           44 2015-07-04 03:00:00   18.3\n",
       " 71599           44 2015-07-04 04:00:00   18.6\n",
       " 71600           44 2015-07-04 05:00:00   20.3\n",
       " 71601           44 2015-07-04 06:00:00   22.1\n",
       " 71602           44 2015-07-04 07:00:00   23.4\n",
       " 71603           44 2015-07-04 08:00:00   25.7\n",
       " 71604           44 2015-07-04 09:00:00   28.1\n",
       " 71605           44 2015-07-04 10:00:00   30.2\n",
       " 71606           44 2015-07-04 11:00:00   30.6\n",
       " 71607           44 2015-07-04 12:00:00   32.2\n",
       " 71608           44 2015-07-04 13:00:00   33.5\n",
       " 71609           44 2015-07-04 14:00:00   34.1\n",
       " 71610           44 2015-07-04 15:00:00   35.2\n",
       " 71611           44 2015-07-04 16:00:00   34.8\n",
       " 71612           44 2015-07-04 17:00:00   32.0\n",
       " 71613           44 2015-07-04 18:00:00   31.1\n",
       " 71614           44 2015-07-04 19:00:00   28.6\n",
       " 71615           44 2015-07-04 20:00:00   26.7\n",
       " 71616           44 2015-07-04 21:00:00   23.4\n",
       " 71617           44 2015-07-04 22:00:00   21.9\n",
       " 71618           44 2015-07-04 23:00:00   20.4\n",
       " 71619           44 2015-07-05 00:00:00   20.5)"
      ]
     },
     "execution_count": 35,
     "metadata": {},
     "output_type": "execute_result"
    }
   ],
   "source": [
    "st_44[st_44.date > '2015-07-02 00:00:00'].head(24), st_44[st_44.date > '2015-07-03 00:00:00'].head(24), st_44[st_44.date > '2015-07-04 00:00:00'].head(24)"
   ]
  },
  {
   "cell_type": "markdown",
   "id": "f6de415b",
   "metadata": {},
   "source": [
    "I see that the temperature before and after the missing values is lower than both the day before and the day after. This means that to replace the missing values with the average of the two is not the best way to replace the missing values. I replaced the missing values with values following roughly the same steps as the day before (this is not very scientific, If I had more time and knowledge, I would use the same principle, but following a mathematical equation).  "
   ]
  },
  {
   "cell_type": "code",
   "execution_count": 36,
   "id": "baaeb0a5",
   "metadata": {},
   "outputs": [
    {
     "name": "stderr",
     "output_type": "stream",
     "text": [
      "<ipython-input-36-5ad07b74a848>:1: SettingWithCopyWarning: \n",
      "A value is trying to be set on a copy of a slice from a DataFrame\n",
      "\n",
      "See the caveats in the documentation: https://pandas.pydata.org/pandas-docs/stable/user_guide/indexing.html#returning-a-view-versus-a-copy\n",
      "  missing['TT_TU'][4400] = 20.3\n",
      "<ipython-input-36-5ad07b74a848>:2: SettingWithCopyWarning: \n",
      "A value is trying to be set on a copy of a slice from a DataFrame\n",
      "\n",
      "See the caveats in the documentation: https://pandas.pydata.org/pandas-docs/stable/user_guide/indexing.html#returning-a-view-versus-a-copy\n",
      "  missing['TT_TU'][4401] = 21.8\n",
      "<ipython-input-36-5ad07b74a848>:3: SettingWithCopyWarning: \n",
      "A value is trying to be set on a copy of a slice from a DataFrame\n",
      "\n",
      "See the caveats in the documentation: https://pandas.pydata.org/pandas-docs/stable/user_guide/indexing.html#returning-a-view-versus-a-copy\n",
      "  missing['TT_TU'][4402] = 23.8\n",
      "<ipython-input-36-5ad07b74a848>:4: SettingWithCopyWarning: \n",
      "A value is trying to be set on a copy of a slice from a DataFrame\n",
      "\n",
      "See the caveats in the documentation: https://pandas.pydata.org/pandas-docs/stable/user_guide/indexing.html#returning-a-view-versus-a-copy\n",
      "  missing['TT_TU'][4403] = 25.8\n",
      "<ipython-input-36-5ad07b74a848>:5: SettingWithCopyWarning: \n",
      "A value is trying to be set on a copy of a slice from a DataFrame\n",
      "\n",
      "See the caveats in the documentation: https://pandas.pydata.org/pandas-docs/stable/user_guide/indexing.html#returning-a-view-versus-a-copy\n",
      "  missing['TT_TU'][4404] = 27.8\n",
      "<ipython-input-36-5ad07b74a848>:6: SettingWithCopyWarning: \n",
      "A value is trying to be set on a copy of a slice from a DataFrame\n",
      "\n",
      "See the caveats in the documentation: https://pandas.pydata.org/pandas-docs/stable/user_guide/indexing.html#returning-a-view-versus-a-copy\n",
      "  missing['TT_TU'][4405] = 28.3\n",
      "<ipython-input-36-5ad07b74a848>:7: SettingWithCopyWarning: \n",
      "A value is trying to be set on a copy of a slice from a DataFrame\n",
      "\n",
      "See the caveats in the documentation: https://pandas.pydata.org/pandas-docs/stable/user_guide/indexing.html#returning-a-view-versus-a-copy\n",
      "  missing['TT_TU'][4407] = 29.8\n",
      "<ipython-input-36-5ad07b74a848>:8: SettingWithCopyWarning: \n",
      "A value is trying to be set on a copy of a slice from a DataFrame\n",
      "\n",
      "See the caveats in the documentation: https://pandas.pydata.org/pandas-docs/stable/user_guide/indexing.html#returning-a-view-versus-a-copy\n",
      "  missing['TT_TU'][4408] = 30.5\n"
     ]
    },
    {
     "data": {
      "text/html": [
       "<div>\n",
       "<style scoped>\n",
       "    .dataframe tbody tr th:only-of-type {\n",
       "        vertical-align: middle;\n",
       "    }\n",
       "\n",
       "    .dataframe tbody tr th {\n",
       "        vertical-align: top;\n",
       "    }\n",
       "\n",
       "    .dataframe thead th {\n",
       "        text-align: right;\n",
       "    }\n",
       "</style>\n",
       "<table border=\"1\" class=\"dataframe\">\n",
       "  <thead>\n",
       "    <tr style=\"text-align: right;\">\n",
       "      <th></th>\n",
       "      <th>date</th>\n",
       "      <th>STATIONS_ID</th>\n",
       "      <th>TT_TU</th>\n",
       "    </tr>\n",
       "  </thead>\n",
       "  <tbody>\n",
       "    <tr>\n",
       "      <th>4400</th>\n",
       "      <td>2015-07-03 07:00:00</td>\n",
       "      <td>44</td>\n",
       "      <td>20.3</td>\n",
       "    </tr>\n",
       "    <tr>\n",
       "      <th>4401</th>\n",
       "      <td>2015-07-03 08:00:00</td>\n",
       "      <td>44</td>\n",
       "      <td>21.8</td>\n",
       "    </tr>\n",
       "    <tr>\n",
       "      <th>4402</th>\n",
       "      <td>2015-07-03 09:00:00</td>\n",
       "      <td>44</td>\n",
       "      <td>23.8</td>\n",
       "    </tr>\n",
       "    <tr>\n",
       "      <th>4403</th>\n",
       "      <td>2015-07-03 10:00:00</td>\n",
       "      <td>44</td>\n",
       "      <td>25.8</td>\n",
       "    </tr>\n",
       "    <tr>\n",
       "      <th>4404</th>\n",
       "      <td>2015-07-03 11:00:00</td>\n",
       "      <td>44</td>\n",
       "      <td>27.8</td>\n",
       "    </tr>\n",
       "    <tr>\n",
       "      <th>4405</th>\n",
       "      <td>2015-07-03 12:00:00</td>\n",
       "      <td>44</td>\n",
       "      <td>28.3</td>\n",
       "    </tr>\n",
       "    <tr>\n",
       "      <th>4407</th>\n",
       "      <td>2015-07-03 14:00:00</td>\n",
       "      <td>44</td>\n",
       "      <td>29.8</td>\n",
       "    </tr>\n",
       "    <tr>\n",
       "      <th>4408</th>\n",
       "      <td>2015-07-03 15:00:00</td>\n",
       "      <td>44</td>\n",
       "      <td>30.5</td>\n",
       "    </tr>\n",
       "  </tbody>\n",
       "</table>\n",
       "</div>"
      ],
      "text/plain": [
       "                    date  STATIONS_ID  TT_TU\n",
       "4400 2015-07-03 07:00:00           44   20.3\n",
       "4401 2015-07-03 08:00:00           44   21.8\n",
       "4402 2015-07-03 09:00:00           44   23.8\n",
       "4403 2015-07-03 10:00:00           44   25.8\n",
       "4404 2015-07-03 11:00:00           44   27.8\n",
       "4405 2015-07-03 12:00:00           44   28.3\n",
       "4407 2015-07-03 14:00:00           44   29.8\n",
       "4408 2015-07-03 15:00:00           44   30.5"
      ]
     },
     "execution_count": 36,
     "metadata": {},
     "output_type": "execute_result"
    }
   ],
   "source": [
    "missing['TT_TU'][4400] = 20.3\n",
    "missing['TT_TU'][4401] = 21.8\n",
    "missing['TT_TU'][4402] = 23.8\n",
    "missing['TT_TU'][4403] = 25.8\n",
    "missing['TT_TU'][4404] = 27.8\n",
    "missing['TT_TU'][4405] = 28.3\n",
    "missing['TT_TU'][4407] = 29.8\n",
    "missing['TT_TU'][4408] = 30.5\n",
    "missing"
   ]
  },
  {
   "cell_type": "code",
   "execution_count": 37,
   "id": "76aeb411",
   "metadata": {
    "scrolled": true
   },
   "outputs": [
    {
     "data": {
      "text/plain": [
       "STATIONS_ID    35064\n",
       "date           35064\n",
       "TT_TU          35064\n",
       "dtype: int64"
      ]
     },
     "execution_count": 37,
     "metadata": {},
     "output_type": "execute_result"
    }
   ],
   "source": [
    "st_44 = pd.concat([st_44, missing])\n",
    "st_44 = st_44.sort_values(by = 'date')\n",
    "st_44.isna().count()"
   ]
  },
  {
   "cell_type": "markdown",
   "id": "4b90874c",
   "metadata": {},
   "source": [
    "I check if the replacement of the missing is done."
   ]
  },
  {
   "cell_type": "code",
   "execution_count": 38,
   "id": "9accd8d5",
   "metadata": {},
   "outputs": [
    {
     "data": {
      "text/plain": [
       "True    35064\n",
       "Name: DateUTC, dtype: int64"
      ]
     },
     "execution_count": 38,
     "metadata": {},
     "output_type": "execute_result"
    }
   ],
   "source": [
    "power['DateUTC'].isin(st_44['date']).value_counts()"
   ]
  },
  {
   "cell_type": "markdown",
   "id": "df72da03",
   "metadata": {},
   "source": [
    "Now I want to see if there are values that are missing, but are not NaN."
   ]
  },
  {
   "cell_type": "code",
   "execution_count": 39,
   "id": "f2df8dc8",
   "metadata": {},
   "outputs": [
    {
     "data": {
      "text/html": [
       "<div>\n",
       "<style scoped>\n",
       "    .dataframe tbody tr th:only-of-type {\n",
       "        vertical-align: middle;\n",
       "    }\n",
       "\n",
       "    .dataframe tbody tr th {\n",
       "        vertical-align: top;\n",
       "    }\n",
       "\n",
       "    .dataframe thead th {\n",
       "        text-align: right;\n",
       "    }\n",
       "</style>\n",
       "<table border=\"1\" class=\"dataframe\">\n",
       "  <thead>\n",
       "    <tr style=\"text-align: right;\">\n",
       "      <th></th>\n",
       "      <th>STATIONS_ID</th>\n",
       "      <th>date</th>\n",
       "      <th>TT_TU</th>\n",
       "    </tr>\n",
       "  </thead>\n",
       "  <tbody>\n",
       "  </tbody>\n",
       "</table>\n",
       "</div>"
      ],
      "text/plain": [
       "Empty DataFrame\n",
       "Columns: [STATIONS_ID, date, TT_TU]\n",
       "Index: []"
      ]
     },
     "execution_count": 39,
     "metadata": {},
     "output_type": "execute_result"
    }
   ],
   "source": [
    "st_44[st_44['TT_TU'] > 50]"
   ]
  },
  {
   "cell_type": "code",
   "execution_count": 40,
   "id": "04bec4f4",
   "metadata": {},
   "outputs": [
    {
     "data": {
      "text/html": [
       "<div>\n",
       "<style scoped>\n",
       "    .dataframe tbody tr th:only-of-type {\n",
       "        vertical-align: middle;\n",
       "    }\n",
       "\n",
       "    .dataframe tbody tr th {\n",
       "        vertical-align: top;\n",
       "    }\n",
       "\n",
       "    .dataframe thead th {\n",
       "        text-align: right;\n",
       "    }\n",
       "</style>\n",
       "<table border=\"1\" class=\"dataframe\">\n",
       "  <thead>\n",
       "    <tr style=\"text-align: right;\">\n",
       "      <th></th>\n",
       "      <th>STATIONS_ID</th>\n",
       "      <th>date</th>\n",
       "      <th>TT_TU</th>\n",
       "    </tr>\n",
       "  </thead>\n",
       "  <tbody>\n",
       "    <tr>\n",
       "      <th>96168</th>\n",
       "      <td>44</td>\n",
       "      <td>2018-04-22 21:00:00</td>\n",
       "      <td>-999.0</td>\n",
       "    </tr>\n",
       "    <tr>\n",
       "      <th>96169</th>\n",
       "      <td>44</td>\n",
       "      <td>2018-04-22 22:00:00</td>\n",
       "      <td>-999.0</td>\n",
       "    </tr>\n",
       "    <tr>\n",
       "      <th>96170</th>\n",
       "      <td>44</td>\n",
       "      <td>2018-04-22 23:00:00</td>\n",
       "      <td>-999.0</td>\n",
       "    </tr>\n",
       "    <tr>\n",
       "      <th>96171</th>\n",
       "      <td>44</td>\n",
       "      <td>2018-04-23 00:00:00</td>\n",
       "      <td>-999.0</td>\n",
       "    </tr>\n",
       "    <tr>\n",
       "      <th>96172</th>\n",
       "      <td>44</td>\n",
       "      <td>2018-04-23 01:00:00</td>\n",
       "      <td>-999.0</td>\n",
       "    </tr>\n",
       "    <tr>\n",
       "      <th>96173</th>\n",
       "      <td>44</td>\n",
       "      <td>2018-04-23 02:00:00</td>\n",
       "      <td>-999.0</td>\n",
       "    </tr>\n",
       "    <tr>\n",
       "      <th>96174</th>\n",
       "      <td>44</td>\n",
       "      <td>2018-04-23 03:00:00</td>\n",
       "      <td>-999.0</td>\n",
       "    </tr>\n",
       "    <tr>\n",
       "      <th>96175</th>\n",
       "      <td>44</td>\n",
       "      <td>2018-04-23 04:00:00</td>\n",
       "      <td>-999.0</td>\n",
       "    </tr>\n",
       "    <tr>\n",
       "      <th>96176</th>\n",
       "      <td>44</td>\n",
       "      <td>2018-04-23 05:00:00</td>\n",
       "      <td>-999.0</td>\n",
       "    </tr>\n",
       "    <tr>\n",
       "      <th>96177</th>\n",
       "      <td>44</td>\n",
       "      <td>2018-04-23 06:00:00</td>\n",
       "      <td>-999.0</td>\n",
       "    </tr>\n",
       "    <tr>\n",
       "      <th>96178</th>\n",
       "      <td>44</td>\n",
       "      <td>2018-04-23 07:00:00</td>\n",
       "      <td>-999.0</td>\n",
       "    </tr>\n",
       "    <tr>\n",
       "      <th>96179</th>\n",
       "      <td>44</td>\n",
       "      <td>2018-04-23 08:00:00</td>\n",
       "      <td>-999.0</td>\n",
       "    </tr>\n",
       "    <tr>\n",
       "      <th>96180</th>\n",
       "      <td>44</td>\n",
       "      <td>2018-04-23 09:00:00</td>\n",
       "      <td>-999.0</td>\n",
       "    </tr>\n",
       "    <tr>\n",
       "      <th>96181</th>\n",
       "      <td>44</td>\n",
       "      <td>2018-04-23 10:00:00</td>\n",
       "      <td>-999.0</td>\n",
       "    </tr>\n",
       "    <tr>\n",
       "      <th>96182</th>\n",
       "      <td>44</td>\n",
       "      <td>2018-04-23 11:00:00</td>\n",
       "      <td>-999.0</td>\n",
       "    </tr>\n",
       "    <tr>\n",
       "      <th>96183</th>\n",
       "      <td>44</td>\n",
       "      <td>2018-04-23 12:00:00</td>\n",
       "      <td>-999.0</td>\n",
       "    </tr>\n",
       "  </tbody>\n",
       "</table>\n",
       "</div>"
      ],
      "text/plain": [
       "       STATIONS_ID                date  TT_TU\n",
       "96168           44 2018-04-22 21:00:00 -999.0\n",
       "96169           44 2018-04-22 22:00:00 -999.0\n",
       "96170           44 2018-04-22 23:00:00 -999.0\n",
       "96171           44 2018-04-23 00:00:00 -999.0\n",
       "96172           44 2018-04-23 01:00:00 -999.0\n",
       "96173           44 2018-04-23 02:00:00 -999.0\n",
       "96174           44 2018-04-23 03:00:00 -999.0\n",
       "96175           44 2018-04-23 04:00:00 -999.0\n",
       "96176           44 2018-04-23 05:00:00 -999.0\n",
       "96177           44 2018-04-23 06:00:00 -999.0\n",
       "96178           44 2018-04-23 07:00:00 -999.0\n",
       "96179           44 2018-04-23 08:00:00 -999.0\n",
       "96180           44 2018-04-23 09:00:00 -999.0\n",
       "96181           44 2018-04-23 10:00:00 -999.0\n",
       "96182           44 2018-04-23 11:00:00 -999.0\n",
       "96183           44 2018-04-23 12:00:00 -999.0"
      ]
     },
     "execution_count": 40,
     "metadata": {},
     "output_type": "execute_result"
    }
   ],
   "source": [
    "st_44[st_44['TT_TU'] < -30]"
   ]
  },
  {
   "cell_type": "code",
   "execution_count": 41,
   "id": "1d94cce0",
   "metadata": {},
   "outputs": [
    {
     "data": {
      "text/html": [
       "<div>\n",
       "<style scoped>\n",
       "    .dataframe tbody tr th:only-of-type {\n",
       "        vertical-align: middle;\n",
       "    }\n",
       "\n",
       "    .dataframe tbody tr th {\n",
       "        vertical-align: top;\n",
       "    }\n",
       "\n",
       "    .dataframe thead th {\n",
       "        text-align: right;\n",
       "    }\n",
       "</style>\n",
       "<table border=\"1\" class=\"dataframe\">\n",
       "  <thead>\n",
       "    <tr style=\"text-align: right;\">\n",
       "      <th></th>\n",
       "      <th>STATIONS_ID</th>\n",
       "      <th>date</th>\n",
       "      <th>TT_TU</th>\n",
       "    </tr>\n",
       "  </thead>\n",
       "  <tbody>\n",
       "    <tr>\n",
       "      <th>96167</th>\n",
       "      <td>44</td>\n",
       "      <td>2018-04-22 20:00:00</td>\n",
       "      <td>16.0</td>\n",
       "    </tr>\n",
       "    <tr>\n",
       "      <th>96168</th>\n",
       "      <td>44</td>\n",
       "      <td>2018-04-22 21:00:00</td>\n",
       "      <td>-999.0</td>\n",
       "    </tr>\n",
       "    <tr>\n",
       "      <th>96169</th>\n",
       "      <td>44</td>\n",
       "      <td>2018-04-22 22:00:00</td>\n",
       "      <td>-999.0</td>\n",
       "    </tr>\n",
       "    <tr>\n",
       "      <th>96170</th>\n",
       "      <td>44</td>\n",
       "      <td>2018-04-22 23:00:00</td>\n",
       "      <td>-999.0</td>\n",
       "    </tr>\n",
       "    <tr>\n",
       "      <th>96171</th>\n",
       "      <td>44</td>\n",
       "      <td>2018-04-23 00:00:00</td>\n",
       "      <td>-999.0</td>\n",
       "    </tr>\n",
       "    <tr>\n",
       "      <th>96172</th>\n",
       "      <td>44</td>\n",
       "      <td>2018-04-23 01:00:00</td>\n",
       "      <td>-999.0</td>\n",
       "    </tr>\n",
       "    <tr>\n",
       "      <th>96173</th>\n",
       "      <td>44</td>\n",
       "      <td>2018-04-23 02:00:00</td>\n",
       "      <td>-999.0</td>\n",
       "    </tr>\n",
       "    <tr>\n",
       "      <th>96174</th>\n",
       "      <td>44</td>\n",
       "      <td>2018-04-23 03:00:00</td>\n",
       "      <td>-999.0</td>\n",
       "    </tr>\n",
       "    <tr>\n",
       "      <th>96175</th>\n",
       "      <td>44</td>\n",
       "      <td>2018-04-23 04:00:00</td>\n",
       "      <td>-999.0</td>\n",
       "    </tr>\n",
       "    <tr>\n",
       "      <th>96176</th>\n",
       "      <td>44</td>\n",
       "      <td>2018-04-23 05:00:00</td>\n",
       "      <td>-999.0</td>\n",
       "    </tr>\n",
       "    <tr>\n",
       "      <th>96177</th>\n",
       "      <td>44</td>\n",
       "      <td>2018-04-23 06:00:00</td>\n",
       "      <td>-999.0</td>\n",
       "    </tr>\n",
       "    <tr>\n",
       "      <th>96178</th>\n",
       "      <td>44</td>\n",
       "      <td>2018-04-23 07:00:00</td>\n",
       "      <td>-999.0</td>\n",
       "    </tr>\n",
       "    <tr>\n",
       "      <th>96179</th>\n",
       "      <td>44</td>\n",
       "      <td>2018-04-23 08:00:00</td>\n",
       "      <td>-999.0</td>\n",
       "    </tr>\n",
       "    <tr>\n",
       "      <th>96180</th>\n",
       "      <td>44</td>\n",
       "      <td>2018-04-23 09:00:00</td>\n",
       "      <td>-999.0</td>\n",
       "    </tr>\n",
       "    <tr>\n",
       "      <th>96181</th>\n",
       "      <td>44</td>\n",
       "      <td>2018-04-23 10:00:00</td>\n",
       "      <td>-999.0</td>\n",
       "    </tr>\n",
       "    <tr>\n",
       "      <th>96182</th>\n",
       "      <td>44</td>\n",
       "      <td>2018-04-23 11:00:00</td>\n",
       "      <td>-999.0</td>\n",
       "    </tr>\n",
       "    <tr>\n",
       "      <th>96183</th>\n",
       "      <td>44</td>\n",
       "      <td>2018-04-23 12:00:00</td>\n",
       "      <td>-999.0</td>\n",
       "    </tr>\n",
       "    <tr>\n",
       "      <th>96184</th>\n",
       "      <td>44</td>\n",
       "      <td>2018-04-23 13:00:00</td>\n",
       "      <td>16.4</td>\n",
       "    </tr>\n",
       "    <tr>\n",
       "      <th>96185</th>\n",
       "      <td>44</td>\n",
       "      <td>2018-04-23 14:00:00</td>\n",
       "      <td>17.1</td>\n",
       "    </tr>\n",
       "    <tr>\n",
       "      <th>96186</th>\n",
       "      <td>44</td>\n",
       "      <td>2018-04-23 15:00:00</td>\n",
       "      <td>17.4</td>\n",
       "    </tr>\n",
       "    <tr>\n",
       "      <th>96187</th>\n",
       "      <td>44</td>\n",
       "      <td>2018-04-23 16:00:00</td>\n",
       "      <td>16.8</td>\n",
       "    </tr>\n",
       "    <tr>\n",
       "      <th>96188</th>\n",
       "      <td>44</td>\n",
       "      <td>2018-04-23 17:00:00</td>\n",
       "      <td>15.4</td>\n",
       "    </tr>\n",
       "    <tr>\n",
       "      <th>96189</th>\n",
       "      <td>44</td>\n",
       "      <td>2018-04-23 18:00:00</td>\n",
       "      <td>14.0</td>\n",
       "    </tr>\n",
       "    <tr>\n",
       "      <th>96190</th>\n",
       "      <td>44</td>\n",
       "      <td>2018-04-23 19:00:00</td>\n",
       "      <td>12.5</td>\n",
       "    </tr>\n",
       "  </tbody>\n",
       "</table>\n",
       "</div>"
      ],
      "text/plain": [
       "       STATIONS_ID                date  TT_TU\n",
       "96167           44 2018-04-22 20:00:00   16.0\n",
       "96168           44 2018-04-22 21:00:00 -999.0\n",
       "96169           44 2018-04-22 22:00:00 -999.0\n",
       "96170           44 2018-04-22 23:00:00 -999.0\n",
       "96171           44 2018-04-23 00:00:00 -999.0\n",
       "96172           44 2018-04-23 01:00:00 -999.0\n",
       "96173           44 2018-04-23 02:00:00 -999.0\n",
       "96174           44 2018-04-23 03:00:00 -999.0\n",
       "96175           44 2018-04-23 04:00:00 -999.0\n",
       "96176           44 2018-04-23 05:00:00 -999.0\n",
       "96177           44 2018-04-23 06:00:00 -999.0\n",
       "96178           44 2018-04-23 07:00:00 -999.0\n",
       "96179           44 2018-04-23 08:00:00 -999.0\n",
       "96180           44 2018-04-23 09:00:00 -999.0\n",
       "96181           44 2018-04-23 10:00:00 -999.0\n",
       "96182           44 2018-04-23 11:00:00 -999.0\n",
       "96183           44 2018-04-23 12:00:00 -999.0\n",
       "96184           44 2018-04-23 13:00:00   16.4\n",
       "96185           44 2018-04-23 14:00:00   17.1\n",
       "96186           44 2018-04-23 15:00:00   17.4\n",
       "96187           44 2018-04-23 16:00:00   16.8\n",
       "96188           44 2018-04-23 17:00:00   15.4\n",
       "96189           44 2018-04-23 18:00:00   14.0\n",
       "96190           44 2018-04-23 19:00:00   12.5"
      ]
     },
     "execution_count": 41,
     "metadata": {},
     "output_type": "execute_result"
    }
   ],
   "source": [
    "st_44[st_44.date > '2018-04-22 19:00:00'].head(24)"
   ]
  },
  {
   "cell_type": "code",
   "execution_count": 42,
   "id": "fca3b051",
   "metadata": {},
   "outputs": [
    {
     "data": {
      "text/plain": [
       "(       STATIONS_ID                date  TT_TU\n",
       " 96144           44 2018-04-21 21:00:00   10.5\n",
       " 96145           44 2018-04-21 22:00:00    9.6\n",
       " 96146           44 2018-04-21 23:00:00    8.8\n",
       " 96147           44 2018-04-22 00:00:00    7.5\n",
       " 96148           44 2018-04-22 01:00:00    7.8\n",
       " 96149           44 2018-04-22 02:00:00    6.6\n",
       " 96150           44 2018-04-22 03:00:00    7.4\n",
       " 96151           44 2018-04-22 04:00:00    7.1\n",
       " 96152           44 2018-04-22 05:00:00    7.3\n",
       " 96153           44 2018-04-22 06:00:00    9.2\n",
       " 96154           44 2018-04-22 07:00:00   11.6\n",
       " 96155           44 2018-04-22 08:00:00   15.0\n",
       " 96156           44 2018-04-22 09:00:00   16.8\n",
       " 96157           44 2018-04-22 10:00:00   17.6\n",
       " 96158           44 2018-04-22 11:00:00   18.9\n",
       " 96159           44 2018-04-22 12:00:00   20.2\n",
       " 96160           44 2018-04-22 13:00:00   21.7\n",
       " 96161           44 2018-04-22 14:00:00   22.8\n",
       " 96162           44 2018-04-22 15:00:00   24.3\n",
       " 96163           44 2018-04-22 16:00:00   24.6\n",
       " 96164           44 2018-04-22 17:00:00   24.4\n",
       " 96165           44 2018-04-22 18:00:00   22.5\n",
       " 96166           44 2018-04-22 19:00:00   22.3\n",
       " 96167           44 2018-04-22 20:00:00   16.0,\n",
       "        STATIONS_ID                date  TT_TU\n",
       " 96167           44 2018-04-22 20:00:00   16.0\n",
       " 96168           44 2018-04-22 21:00:00 -999.0\n",
       " 96169           44 2018-04-22 22:00:00 -999.0\n",
       " 96170           44 2018-04-22 23:00:00 -999.0\n",
       " 96171           44 2018-04-23 00:00:00 -999.0\n",
       " 96172           44 2018-04-23 01:00:00 -999.0\n",
       " 96173           44 2018-04-23 02:00:00 -999.0\n",
       " 96174           44 2018-04-23 03:00:00 -999.0\n",
       " 96175           44 2018-04-23 04:00:00 -999.0\n",
       " 96176           44 2018-04-23 05:00:00 -999.0\n",
       " 96177           44 2018-04-23 06:00:00 -999.0\n",
       " 96178           44 2018-04-23 07:00:00 -999.0\n",
       " 96179           44 2018-04-23 08:00:00 -999.0\n",
       " 96180           44 2018-04-23 09:00:00 -999.0\n",
       " 96181           44 2018-04-23 10:00:00 -999.0\n",
       " 96182           44 2018-04-23 11:00:00 -999.0\n",
       " 96183           44 2018-04-23 12:00:00 -999.0\n",
       " 96184           44 2018-04-23 13:00:00   16.4\n",
       " 96185           44 2018-04-23 14:00:00   17.1\n",
       " 96186           44 2018-04-23 15:00:00   17.4\n",
       " 96187           44 2018-04-23 16:00:00   16.8\n",
       " 96188           44 2018-04-23 17:00:00   15.4\n",
       " 96189           44 2018-04-23 18:00:00   14.0\n",
       " 96190           44 2018-04-23 19:00:00   12.5,\n",
       "        STATIONS_ID                date  TT_TU\n",
       " 96192           44 2018-04-23 21:00:00   10.4\n",
       " 96193           44 2018-04-23 22:00:00    8.4\n",
       " 96194           44 2018-04-23 23:00:00    8.0\n",
       " 96195           44 2018-04-24 00:00:00    8.3\n",
       " 96196           44 2018-04-24 01:00:00    9.0\n",
       " 96197           44 2018-04-24 02:00:00    9.7\n",
       " 96198           44 2018-04-24 03:00:00    9.7\n",
       " 96199           44 2018-04-24 04:00:00    9.8\n",
       " 96200           44 2018-04-24 05:00:00    9.7\n",
       " 96201           44 2018-04-24 06:00:00    9.2\n",
       " 96202           44 2018-04-24 07:00:00    9.8\n",
       " 96203           44 2018-04-24 08:00:00   10.2\n",
       " 96204           44 2018-04-24 09:00:00   10.5\n",
       " 96205           44 2018-04-24 10:00:00   10.6\n",
       " 96206           44 2018-04-24 11:00:00   11.0\n",
       " 96207           44 2018-04-24 12:00:00   11.0\n",
       " 96208           44 2018-04-24 13:00:00   12.8\n",
       " 96209           44 2018-04-24 14:00:00   13.0\n",
       " 96210           44 2018-04-24 15:00:00   13.1\n",
       " 96211           44 2018-04-24 16:00:00   12.8\n",
       " 96212           44 2018-04-24 17:00:00   12.8\n",
       " 96213           44 2018-04-24 18:00:00   12.7\n",
       " 96214           44 2018-04-24 19:00:00   12.4\n",
       " 96215           44 2018-04-24 20:00:00   11.0)"
      ]
     },
     "execution_count": 42,
     "metadata": {},
     "output_type": "execute_result"
    }
   ],
   "source": [
    "st_44[st_44.date > '2018-04-21 20:00:00'].head(24), st_44[st_44.date > '2018-04-22 19:00:00'].head(24), st_44[st_44.date > '2018-04-23 20:00:00'].head(24)"
   ]
  },
  {
   "cell_type": "markdown",
   "id": "99e4b564",
   "metadata": {},
   "source": [
    "Here the non-missing values of the day are close to the mean of the day before and the day after, so replacing the missing values with the mean of the two adjacent days is appropriate. "
   ]
  },
  {
   "cell_type": "code",
   "execution_count": 43,
   "id": "a96a191b",
   "metadata": {},
   "outputs": [],
   "source": [
    "st_44_day_before = st_44[st_44.date > '2018-04-21 20:00:00'].head(16)\n",
    "st_44_day_after = st_44[st_44.date > '2018-04-23 20:00:00'].head(16)\n",
    "st_44_replacement_values = (st_44_day_after['TT_TU'].to_numpy() + st_44_day_before['TT_TU'].to_numpy())/2"
   ]
  },
  {
   "cell_type": "code",
   "execution_count": 44,
   "id": "f3beea17",
   "metadata": {
    "scrolled": true
   },
   "outputs": [
    {
     "data": {
      "text/plain": [
       "array([10.45,  9.  ,  8.4 ,  7.9 ,  8.4 ,  8.15,  8.55,  8.45,  8.5 ,\n",
       "        9.2 , 10.7 , 12.6 , 13.65, 14.1 , 14.95, 15.6 ])"
      ]
     },
     "execution_count": 44,
     "metadata": {},
     "output_type": "execute_result"
    }
   ],
   "source": [
    "st_44_replacement_values"
   ]
  },
  {
   "cell_type": "markdown",
   "id": "52f1dd3c",
   "metadata": {},
   "source": [
    "I am sure that there is a smarter way to do this with code, but I couldn’t figure it out."
   ]
  },
  {
   "cell_type": "code",
   "execution_count": 45,
   "id": "7e2eb448",
   "metadata": {},
   "outputs": [
    {
     "name": "stderr",
     "output_type": "stream",
     "text": [
      "<ipython-input-45-b7c1d9acd96c>:1: SettingWithCopyWarning: \n",
      "A value is trying to be set on a copy of a slice from a DataFrame\n",
      "\n",
      "See the caveats in the documentation: https://pandas.pydata.org/pandas-docs/stable/user_guide/indexing.html#returning-a-view-versus-a-copy\n",
      "  st_44['TT_TU'][96168] = 10.45\n",
      "<ipython-input-45-b7c1d9acd96c>:2: SettingWithCopyWarning: \n",
      "A value is trying to be set on a copy of a slice from a DataFrame\n",
      "\n",
      "See the caveats in the documentation: https://pandas.pydata.org/pandas-docs/stable/user_guide/indexing.html#returning-a-view-versus-a-copy\n",
      "  st_44['TT_TU'][96169] = 9.\n",
      "<ipython-input-45-b7c1d9acd96c>:3: SettingWithCopyWarning: \n",
      "A value is trying to be set on a copy of a slice from a DataFrame\n",
      "\n",
      "See the caveats in the documentation: https://pandas.pydata.org/pandas-docs/stable/user_guide/indexing.html#returning-a-view-versus-a-copy\n",
      "  st_44['TT_TU'][96170] = 8.4\n",
      "<ipython-input-45-b7c1d9acd96c>:4: SettingWithCopyWarning: \n",
      "A value is trying to be set on a copy of a slice from a DataFrame\n",
      "\n",
      "See the caveats in the documentation: https://pandas.pydata.org/pandas-docs/stable/user_guide/indexing.html#returning-a-view-versus-a-copy\n",
      "  st_44['TT_TU'][96171] = 7.9\n",
      "<ipython-input-45-b7c1d9acd96c>:5: SettingWithCopyWarning: \n",
      "A value is trying to be set on a copy of a slice from a DataFrame\n",
      "\n",
      "See the caveats in the documentation: https://pandas.pydata.org/pandas-docs/stable/user_guide/indexing.html#returning-a-view-versus-a-copy\n",
      "  st_44['TT_TU'][96172] = 8.4\n",
      "<ipython-input-45-b7c1d9acd96c>:6: SettingWithCopyWarning: \n",
      "A value is trying to be set on a copy of a slice from a DataFrame\n",
      "\n",
      "See the caveats in the documentation: https://pandas.pydata.org/pandas-docs/stable/user_guide/indexing.html#returning-a-view-versus-a-copy\n",
      "  st_44['TT_TU'][96173] = 8.15\n",
      "<ipython-input-45-b7c1d9acd96c>:7: SettingWithCopyWarning: \n",
      "A value is trying to be set on a copy of a slice from a DataFrame\n",
      "\n",
      "See the caveats in the documentation: https://pandas.pydata.org/pandas-docs/stable/user_guide/indexing.html#returning-a-view-versus-a-copy\n",
      "  st_44['TT_TU'][96174] = 8.55\n",
      "<ipython-input-45-b7c1d9acd96c>:8: SettingWithCopyWarning: \n",
      "A value is trying to be set on a copy of a slice from a DataFrame\n",
      "\n",
      "See the caveats in the documentation: https://pandas.pydata.org/pandas-docs/stable/user_guide/indexing.html#returning-a-view-versus-a-copy\n",
      "  st_44['TT_TU'][96175] = 8.45\n",
      "<ipython-input-45-b7c1d9acd96c>:9: SettingWithCopyWarning: \n",
      "A value is trying to be set on a copy of a slice from a DataFrame\n",
      "\n",
      "See the caveats in the documentation: https://pandas.pydata.org/pandas-docs/stable/user_guide/indexing.html#returning-a-view-versus-a-copy\n",
      "  st_44['TT_TU'][96176] = 8.5\n",
      "<ipython-input-45-b7c1d9acd96c>:10: SettingWithCopyWarning: \n",
      "A value is trying to be set on a copy of a slice from a DataFrame\n",
      "\n",
      "See the caveats in the documentation: https://pandas.pydata.org/pandas-docs/stable/user_guide/indexing.html#returning-a-view-versus-a-copy\n",
      "  st_44['TT_TU'][96177] = 9.2\n",
      "<ipython-input-45-b7c1d9acd96c>:11: SettingWithCopyWarning: \n",
      "A value is trying to be set on a copy of a slice from a DataFrame\n",
      "\n",
      "See the caveats in the documentation: https://pandas.pydata.org/pandas-docs/stable/user_guide/indexing.html#returning-a-view-versus-a-copy\n",
      "  st_44['TT_TU'][96178] = 10.7\n",
      "<ipython-input-45-b7c1d9acd96c>:12: SettingWithCopyWarning: \n",
      "A value is trying to be set on a copy of a slice from a DataFrame\n",
      "\n",
      "See the caveats in the documentation: https://pandas.pydata.org/pandas-docs/stable/user_guide/indexing.html#returning-a-view-versus-a-copy\n",
      "  st_44['TT_TU'][96179] = 12.6\n",
      "<ipython-input-45-b7c1d9acd96c>:13: SettingWithCopyWarning: \n",
      "A value is trying to be set on a copy of a slice from a DataFrame\n",
      "\n",
      "See the caveats in the documentation: https://pandas.pydata.org/pandas-docs/stable/user_guide/indexing.html#returning-a-view-versus-a-copy\n",
      "  st_44['TT_TU'][96180] = 13.65\n",
      "<ipython-input-45-b7c1d9acd96c>:14: SettingWithCopyWarning: \n",
      "A value is trying to be set on a copy of a slice from a DataFrame\n",
      "\n",
      "See the caveats in the documentation: https://pandas.pydata.org/pandas-docs/stable/user_guide/indexing.html#returning-a-view-versus-a-copy\n",
      "  st_44['TT_TU'][96181] = 14.1\n",
      "<ipython-input-45-b7c1d9acd96c>:15: SettingWithCopyWarning: \n",
      "A value is trying to be set on a copy of a slice from a DataFrame\n",
      "\n",
      "See the caveats in the documentation: https://pandas.pydata.org/pandas-docs/stable/user_guide/indexing.html#returning-a-view-versus-a-copy\n",
      "  st_44['TT_TU'][96182] = 14.95\n",
      "<ipython-input-45-b7c1d9acd96c>:16: SettingWithCopyWarning: \n",
      "A value is trying to be set on a copy of a slice from a DataFrame\n",
      "\n",
      "See the caveats in the documentation: https://pandas.pydata.org/pandas-docs/stable/user_guide/indexing.html#returning-a-view-versus-a-copy\n",
      "  st_44['TT_TU'][96183] = 15.6\n"
     ]
    }
   ],
   "source": [
    "st_44['TT_TU'][96168] = 10.45\n",
    "st_44['TT_TU'][96169] = 9.\n",
    "st_44['TT_TU'][96170] = 8.4\n",
    "st_44['TT_TU'][96171] = 7.9\n",
    "st_44['TT_TU'][96172] = 8.4\n",
    "st_44['TT_TU'][96173] = 8.15\n",
    "st_44['TT_TU'][96174] = 8.55\n",
    "st_44['TT_TU'][96175] = 8.45\n",
    "st_44['TT_TU'][96176] = 8.5\n",
    "st_44['TT_TU'][96177] = 9.2\n",
    "st_44['TT_TU'][96178] = 10.7\n",
    "st_44['TT_TU'][96179] = 12.6\n",
    "st_44['TT_TU'][96180] = 13.65\n",
    "st_44['TT_TU'][96181] = 14.1\n",
    "st_44['TT_TU'][96182] = 14.95\n",
    "st_44['TT_TU'][96183] = 15.6"
   ]
  },
  {
   "cell_type": "code",
   "execution_count": 46,
   "id": "7ff09bee",
   "metadata": {
    "scrolled": true
   },
   "outputs": [
    {
     "data": {
      "text/html": [
       "<div>\n",
       "<style scoped>\n",
       "    .dataframe tbody tr th:only-of-type {\n",
       "        vertical-align: middle;\n",
       "    }\n",
       "\n",
       "    .dataframe tbody tr th {\n",
       "        vertical-align: top;\n",
       "    }\n",
       "\n",
       "    .dataframe thead th {\n",
       "        text-align: right;\n",
       "    }\n",
       "</style>\n",
       "<table border=\"1\" class=\"dataframe\">\n",
       "  <thead>\n",
       "    <tr style=\"text-align: right;\">\n",
       "      <th></th>\n",
       "      <th>STATIONS_ID</th>\n",
       "      <th>date</th>\n",
       "      <th>TT_TU</th>\n",
       "    </tr>\n",
       "  </thead>\n",
       "  <tbody>\n",
       "    <tr>\n",
       "      <th>96167</th>\n",
       "      <td>44</td>\n",
       "      <td>2018-04-22 20:00:00</td>\n",
       "      <td>16.00</td>\n",
       "    </tr>\n",
       "    <tr>\n",
       "      <th>96168</th>\n",
       "      <td>44</td>\n",
       "      <td>2018-04-22 21:00:00</td>\n",
       "      <td>10.45</td>\n",
       "    </tr>\n",
       "    <tr>\n",
       "      <th>96169</th>\n",
       "      <td>44</td>\n",
       "      <td>2018-04-22 22:00:00</td>\n",
       "      <td>9.00</td>\n",
       "    </tr>\n",
       "    <tr>\n",
       "      <th>96170</th>\n",
       "      <td>44</td>\n",
       "      <td>2018-04-22 23:00:00</td>\n",
       "      <td>8.40</td>\n",
       "    </tr>\n",
       "    <tr>\n",
       "      <th>96171</th>\n",
       "      <td>44</td>\n",
       "      <td>2018-04-23 00:00:00</td>\n",
       "      <td>7.90</td>\n",
       "    </tr>\n",
       "    <tr>\n",
       "      <th>96172</th>\n",
       "      <td>44</td>\n",
       "      <td>2018-04-23 01:00:00</td>\n",
       "      <td>8.40</td>\n",
       "    </tr>\n",
       "    <tr>\n",
       "      <th>96173</th>\n",
       "      <td>44</td>\n",
       "      <td>2018-04-23 02:00:00</td>\n",
       "      <td>8.15</td>\n",
       "    </tr>\n",
       "    <tr>\n",
       "      <th>96174</th>\n",
       "      <td>44</td>\n",
       "      <td>2018-04-23 03:00:00</td>\n",
       "      <td>8.55</td>\n",
       "    </tr>\n",
       "    <tr>\n",
       "      <th>96175</th>\n",
       "      <td>44</td>\n",
       "      <td>2018-04-23 04:00:00</td>\n",
       "      <td>8.45</td>\n",
       "    </tr>\n",
       "    <tr>\n",
       "      <th>96176</th>\n",
       "      <td>44</td>\n",
       "      <td>2018-04-23 05:00:00</td>\n",
       "      <td>8.50</td>\n",
       "    </tr>\n",
       "    <tr>\n",
       "      <th>96177</th>\n",
       "      <td>44</td>\n",
       "      <td>2018-04-23 06:00:00</td>\n",
       "      <td>9.20</td>\n",
       "    </tr>\n",
       "    <tr>\n",
       "      <th>96178</th>\n",
       "      <td>44</td>\n",
       "      <td>2018-04-23 07:00:00</td>\n",
       "      <td>10.70</td>\n",
       "    </tr>\n",
       "    <tr>\n",
       "      <th>96179</th>\n",
       "      <td>44</td>\n",
       "      <td>2018-04-23 08:00:00</td>\n",
       "      <td>12.60</td>\n",
       "    </tr>\n",
       "    <tr>\n",
       "      <th>96180</th>\n",
       "      <td>44</td>\n",
       "      <td>2018-04-23 09:00:00</td>\n",
       "      <td>13.65</td>\n",
       "    </tr>\n",
       "    <tr>\n",
       "      <th>96181</th>\n",
       "      <td>44</td>\n",
       "      <td>2018-04-23 10:00:00</td>\n",
       "      <td>14.10</td>\n",
       "    </tr>\n",
       "    <tr>\n",
       "      <th>96182</th>\n",
       "      <td>44</td>\n",
       "      <td>2018-04-23 11:00:00</td>\n",
       "      <td>14.95</td>\n",
       "    </tr>\n",
       "    <tr>\n",
       "      <th>96183</th>\n",
       "      <td>44</td>\n",
       "      <td>2018-04-23 12:00:00</td>\n",
       "      <td>15.60</td>\n",
       "    </tr>\n",
       "    <tr>\n",
       "      <th>96184</th>\n",
       "      <td>44</td>\n",
       "      <td>2018-04-23 13:00:00</td>\n",
       "      <td>16.40</td>\n",
       "    </tr>\n",
       "    <tr>\n",
       "      <th>96185</th>\n",
       "      <td>44</td>\n",
       "      <td>2018-04-23 14:00:00</td>\n",
       "      <td>17.10</td>\n",
       "    </tr>\n",
       "    <tr>\n",
       "      <th>96186</th>\n",
       "      <td>44</td>\n",
       "      <td>2018-04-23 15:00:00</td>\n",
       "      <td>17.40</td>\n",
       "    </tr>\n",
       "    <tr>\n",
       "      <th>96187</th>\n",
       "      <td>44</td>\n",
       "      <td>2018-04-23 16:00:00</td>\n",
       "      <td>16.80</td>\n",
       "    </tr>\n",
       "    <tr>\n",
       "      <th>96188</th>\n",
       "      <td>44</td>\n",
       "      <td>2018-04-23 17:00:00</td>\n",
       "      <td>15.40</td>\n",
       "    </tr>\n",
       "    <tr>\n",
       "      <th>96189</th>\n",
       "      <td>44</td>\n",
       "      <td>2018-04-23 18:00:00</td>\n",
       "      <td>14.00</td>\n",
       "    </tr>\n",
       "    <tr>\n",
       "      <th>96190</th>\n",
       "      <td>44</td>\n",
       "      <td>2018-04-23 19:00:00</td>\n",
       "      <td>12.50</td>\n",
       "    </tr>\n",
       "  </tbody>\n",
       "</table>\n",
       "</div>"
      ],
      "text/plain": [
       "       STATIONS_ID                date  TT_TU\n",
       "96167           44 2018-04-22 20:00:00  16.00\n",
       "96168           44 2018-04-22 21:00:00  10.45\n",
       "96169           44 2018-04-22 22:00:00   9.00\n",
       "96170           44 2018-04-22 23:00:00   8.40\n",
       "96171           44 2018-04-23 00:00:00   7.90\n",
       "96172           44 2018-04-23 01:00:00   8.40\n",
       "96173           44 2018-04-23 02:00:00   8.15\n",
       "96174           44 2018-04-23 03:00:00   8.55\n",
       "96175           44 2018-04-23 04:00:00   8.45\n",
       "96176           44 2018-04-23 05:00:00   8.50\n",
       "96177           44 2018-04-23 06:00:00   9.20\n",
       "96178           44 2018-04-23 07:00:00  10.70\n",
       "96179           44 2018-04-23 08:00:00  12.60\n",
       "96180           44 2018-04-23 09:00:00  13.65\n",
       "96181           44 2018-04-23 10:00:00  14.10\n",
       "96182           44 2018-04-23 11:00:00  14.95\n",
       "96183           44 2018-04-23 12:00:00  15.60\n",
       "96184           44 2018-04-23 13:00:00  16.40\n",
       "96185           44 2018-04-23 14:00:00  17.10\n",
       "96186           44 2018-04-23 15:00:00  17.40\n",
       "96187           44 2018-04-23 16:00:00  16.80\n",
       "96188           44 2018-04-23 17:00:00  15.40\n",
       "96189           44 2018-04-23 18:00:00  14.00\n",
       "96190           44 2018-04-23 19:00:00  12.50"
      ]
     },
     "execution_count": 46,
     "metadata": {},
     "output_type": "execute_result"
    }
   ],
   "source": [
    "st_44[st_44.date > '2018-04-22 19:00:00'].head(24)"
   ]
  },
  {
   "cell_type": "code",
   "execution_count": 47,
   "id": "f4407564",
   "metadata": {},
   "outputs": [
    {
     "data": {
      "text/html": [
       "<div>\n",
       "<style scoped>\n",
       "    .dataframe tbody tr th:only-of-type {\n",
       "        vertical-align: middle;\n",
       "    }\n",
       "\n",
       "    .dataframe tbody tr th {\n",
       "        vertical-align: top;\n",
       "    }\n",
       "\n",
       "    .dataframe thead th {\n",
       "        text-align: right;\n",
       "    }\n",
       "</style>\n",
       "<table border=\"1\" class=\"dataframe\">\n",
       "  <thead>\n",
       "    <tr style=\"text-align: right;\">\n",
       "      <th></th>\n",
       "      <th>STATIONS_ID</th>\n",
       "      <th>date</th>\n",
       "      <th>TT_TU</th>\n",
       "    </tr>\n",
       "  </thead>\n",
       "  <tbody>\n",
       "  </tbody>\n",
       "</table>\n",
       "</div>"
      ],
      "text/plain": [
       "Empty DataFrame\n",
       "Columns: [STATIONS_ID, date, TT_TU]\n",
       "Index: []"
      ]
     },
     "execution_count": 47,
     "metadata": {},
     "output_type": "execute_result"
    }
   ],
   "source": [
    "st_44[st_44['TT_TU'] < -30]"
   ]
  },
  {
   "cell_type": "code",
   "execution_count": 48,
   "id": "493487e2",
   "metadata": {},
   "outputs": [],
   "source": [
    "st_303 = pd.read_csv('data/produkt_tu_stunde_19930819_20211231_00303.txt', sep = ';')"
   ]
  },
  {
   "cell_type": "code",
   "execution_count": 49,
   "id": "03b3b765",
   "metadata": {},
   "outputs": [],
   "source": [
    "st_303 = proper_date(st_303)"
   ]
  },
  {
   "cell_type": "code",
   "execution_count": 50,
   "id": "23241a25",
   "metadata": {
    "scrolled": true
   },
   "outputs": [
    {
     "data": {
      "text/plain": [
       "(Empty DataFrame\n",
       " Columns: [STATIONS_ID, date, TT_TU]\n",
       " Index: [],\n",
       " Empty DataFrame\n",
       " Columns: [STATIONS_ID, date, TT_TU]\n",
       " Index: [])"
      ]
     },
     "execution_count": 50,
     "metadata": {},
     "output_type": "execute_result"
    }
   ],
   "source": [
    "st_303[st_303['TT_TU'] > 50], st_303[st_303['TT_TU'] < -30]"
   ]
  },
  {
   "cell_type": "code",
   "execution_count": 51,
   "id": "fddedc05",
   "metadata": {},
   "outputs": [
    {
     "data": {
      "text/plain": [
       "True    35064\n",
       "Name: DateUTC, dtype: int64"
      ]
     },
     "execution_count": 51,
     "metadata": {},
     "output_type": "execute_result"
    }
   ],
   "source": [
    "power['DateUTC'].isin(st_303['date']).value_counts()"
   ]
  },
  {
   "cell_type": "code",
   "execution_count": 52,
   "id": "4c0c7556",
   "metadata": {},
   "outputs": [
    {
     "data": {
      "text/plain": [
       "STATIONS_ID    35064\n",
       "date           35064\n",
       "TT_TU          35064\n",
       "dtype: int64"
      ]
     },
     "execution_count": 52,
     "metadata": {},
     "output_type": "execute_result"
    }
   ],
   "source": [
    "st_303.isna().count()"
   ]
  },
  {
   "cell_type": "code",
   "execution_count": 53,
   "id": "019b9075",
   "metadata": {},
   "outputs": [
    {
     "data": {
      "text/html": [
       "<div>\n",
       "<style scoped>\n",
       "    .dataframe tbody tr th:only-of-type {\n",
       "        vertical-align: middle;\n",
       "    }\n",
       "\n",
       "    .dataframe tbody tr th {\n",
       "        vertical-align: top;\n",
       "    }\n",
       "\n",
       "    .dataframe thead th {\n",
       "        text-align: right;\n",
       "    }\n",
       "</style>\n",
       "<table border=\"1\" class=\"dataframe\">\n",
       "  <thead>\n",
       "    <tr style=\"text-align: right;\">\n",
       "      <th></th>\n",
       "      <th>STATIONS_ID</th>\n",
       "      <th>date</th>\n",
       "      <th>TT_TU</th>\n",
       "    </tr>\n",
       "  </thead>\n",
       "  <tbody>\n",
       "    <tr>\n",
       "      <th>186251</th>\n",
       "      <td>303</td>\n",
       "      <td>2015-01-01 00:00:00</td>\n",
       "      <td>3.6</td>\n",
       "    </tr>\n",
       "    <tr>\n",
       "      <th>186252</th>\n",
       "      <td>303</td>\n",
       "      <td>2015-01-01 01:00:00</td>\n",
       "      <td>3.8</td>\n",
       "    </tr>\n",
       "    <tr>\n",
       "      <th>186253</th>\n",
       "      <td>303</td>\n",
       "      <td>2015-01-01 02:00:00</td>\n",
       "      <td>3.8</td>\n",
       "    </tr>\n",
       "    <tr>\n",
       "      <th>186254</th>\n",
       "      <td>303</td>\n",
       "      <td>2015-01-01 03:00:00</td>\n",
       "      <td>3.7</td>\n",
       "    </tr>\n",
       "    <tr>\n",
       "      <th>186255</th>\n",
       "      <td>303</td>\n",
       "      <td>2015-01-01 04:00:00</td>\n",
       "      <td>3.6</td>\n",
       "    </tr>\n",
       "    <tr>\n",
       "      <th>...</th>\n",
       "      <td>...</td>\n",
       "      <td>...</td>\n",
       "      <td>...</td>\n",
       "    </tr>\n",
       "    <tr>\n",
       "      <th>221310</th>\n",
       "      <td>303</td>\n",
       "      <td>2018-12-31 19:00:00</td>\n",
       "      <td>6.5</td>\n",
       "    </tr>\n",
       "    <tr>\n",
       "      <th>221311</th>\n",
       "      <td>303</td>\n",
       "      <td>2018-12-31 20:00:00</td>\n",
       "      <td>6.9</td>\n",
       "    </tr>\n",
       "    <tr>\n",
       "      <th>221312</th>\n",
       "      <td>303</td>\n",
       "      <td>2018-12-31 21:00:00</td>\n",
       "      <td>7.2</td>\n",
       "    </tr>\n",
       "    <tr>\n",
       "      <th>221313</th>\n",
       "      <td>303</td>\n",
       "      <td>2018-12-31 22:00:00</td>\n",
       "      <td>7.6</td>\n",
       "    </tr>\n",
       "    <tr>\n",
       "      <th>221314</th>\n",
       "      <td>303</td>\n",
       "      <td>2018-12-31 23:00:00</td>\n",
       "      <td>7.9</td>\n",
       "    </tr>\n",
       "  </tbody>\n",
       "</table>\n",
       "<p>35064 rows × 3 columns</p>\n",
       "</div>"
      ],
      "text/plain": [
       "        STATIONS_ID                date  TT_TU\n",
       "186251          303 2015-01-01 00:00:00    3.6\n",
       "186252          303 2015-01-01 01:00:00    3.8\n",
       "186253          303 2015-01-01 02:00:00    3.8\n",
       "186254          303 2015-01-01 03:00:00    3.7\n",
       "186255          303 2015-01-01 04:00:00    3.6\n",
       "...             ...                 ...    ...\n",
       "221310          303 2018-12-31 19:00:00    6.5\n",
       "221311          303 2018-12-31 20:00:00    6.9\n",
       "221312          303 2018-12-31 21:00:00    7.2\n",
       "221313          303 2018-12-31 22:00:00    7.6\n",
       "221314          303 2018-12-31 23:00:00    7.9\n",
       "\n",
       "[35064 rows x 3 columns]"
      ]
     },
     "execution_count": 53,
     "metadata": {},
     "output_type": "execute_result"
    }
   ],
   "source": [
    "st_303"
   ]
  },
  {
   "cell_type": "code",
   "execution_count": 54,
   "id": "db1875c3",
   "metadata": {},
   "outputs": [],
   "source": [
    "st_1161 = pd.read_csv('data/produkt_tu_stunde_20050201_20211231_01161.txt', sep = ';')"
   ]
  },
  {
   "cell_type": "code",
   "execution_count": 55,
   "id": "7da19f9f",
   "metadata": {},
   "outputs": [],
   "source": [
    "st_1161 = proper_date(st_1161)"
   ]
  },
  {
   "cell_type": "code",
   "execution_count": 56,
   "id": "ab34a698",
   "metadata": {},
   "outputs": [
    {
     "data": {
      "text/plain": [
       "(Empty DataFrame\n",
       " Columns: [STATIONS_ID, date, TT_TU]\n",
       " Index: [],\n",
       " Empty DataFrame\n",
       " Columns: [STATIONS_ID, date, TT_TU]\n",
       " Index: [])"
      ]
     },
     "execution_count": 56,
     "metadata": {},
     "output_type": "execute_result"
    }
   ],
   "source": [
    "st_1161[st_1161['TT_TU'] > 50], st_1161[st_1161['TT_TU'] < -30]"
   ]
  },
  {
   "cell_type": "code",
   "execution_count": 57,
   "id": "7ff5ffc8",
   "metadata": {},
   "outputs": [
    {
     "data": {
      "text/plain": [
       "True    35064\n",
       "Name: DateUTC, dtype: int64"
      ]
     },
     "execution_count": 57,
     "metadata": {},
     "output_type": "execute_result"
    }
   ],
   "source": [
    "power['DateUTC'].isin(st_44['date']).value_counts()"
   ]
  },
  {
   "cell_type": "code",
   "execution_count": 58,
   "id": "8e6162eb",
   "metadata": {},
   "outputs": [
    {
     "data": {
      "text/plain": [
       "STATIONS_ID    35064\n",
       "date           35064\n",
       "TT_TU          35064\n",
       "dtype: int64"
      ]
     },
     "execution_count": 58,
     "metadata": {},
     "output_type": "execute_result"
    }
   ],
   "source": [
    "st_1161.isna().count()"
   ]
  },
  {
   "cell_type": "code",
   "execution_count": 59,
   "id": "1c253360",
   "metadata": {},
   "outputs": [],
   "source": [
    "st_603 = pd.read_csv('data/produkt_tu_stunde_20010403_20211231_00603.txt', sep = ';')"
   ]
  },
  {
   "cell_type": "code",
   "execution_count": 60,
   "id": "c603883c",
   "metadata": {},
   "outputs": [],
   "source": [
    "st_603 = proper_date(st_603)"
   ]
  },
  {
   "cell_type": "code",
   "execution_count": 61,
   "id": "69575892",
   "metadata": {
    "scrolled": false
   },
   "outputs": [
    {
     "data": {
      "text/plain": [
       "(Empty DataFrame\n",
       " Columns: [STATIONS_ID, date, TT_TU]\n",
       " Index: [],\n",
       "         STATIONS_ID                date  TT_TU\n",
       " 123011          603 2015-07-31 00:00:00 -999.0\n",
       " 123012          603 2015-07-31 01:00:00 -999.0\n",
       " 123013          603 2015-07-31 02:00:00 -999.0\n",
       " 123014          603 2015-07-31 03:00:00 -999.0\n",
       " 123015          603 2015-07-31 04:00:00 -999.0\n",
       " 123016          603 2015-07-31 05:00:00 -999.0\n",
       " 123017          603 2015-07-31 06:00:00 -999.0\n",
       " 123018          603 2015-07-31 07:00:00 -999.0)"
      ]
     },
     "execution_count": 61,
     "metadata": {},
     "output_type": "execute_result"
    }
   ],
   "source": [
    "st_603[st_603['TT_TU'] > 50], st_603[st_603['TT_TU'] < -30]"
   ]
  },
  {
   "cell_type": "code",
   "execution_count": 62,
   "id": "51220f6e",
   "metadata": {},
   "outputs": [
    {
     "data": {
      "text/plain": [
       "STATIONS_ID    35064\n",
       "date           35064\n",
       "TT_TU          35064\n",
       "dtype: int64"
      ]
     },
     "execution_count": 62,
     "metadata": {},
     "output_type": "execute_result"
    }
   ],
   "source": [
    "st_603.isna().count()"
   ]
  },
  {
   "cell_type": "code",
   "execution_count": 63,
   "id": "6267604e",
   "metadata": {},
   "outputs": [
    {
     "data": {
      "text/plain": [
       "(        STATIONS_ID                date  TT_TU\n",
       " 122984          603 2015-07-29 21:00:00   13.2\n",
       " 122985          603 2015-07-29 22:00:00   11.5\n",
       " 122986          603 2015-07-29 23:00:00   11.0\n",
       " 122987          603 2015-07-30 00:00:00   10.6\n",
       " 122988          603 2015-07-30 01:00:00   11.1\n",
       " 122989          603 2015-07-30 02:00:00   11.1\n",
       " 122990          603 2015-07-30 03:00:00   11.1\n",
       " 122991          603 2015-07-30 04:00:00   10.7\n",
       " 122992          603 2015-07-30 05:00:00   11.2\n",
       " 122993          603 2015-07-30 06:00:00   11.6\n",
       " 122994          603 2015-07-30 07:00:00   12.3\n",
       " 122995          603 2015-07-30 08:00:00   13.1\n",
       " 122996          603 2015-07-30 09:00:00   14.4\n",
       " 122997          603 2015-07-30 10:00:00   15.7\n",
       " 122998          603 2015-07-30 11:00:00   15.9\n",
       " 122999          603 2015-07-30 12:00:00   15.9\n",
       " 123000          603 2015-07-30 13:00:00   15.4\n",
       " 123001          603 2015-07-30 14:00:00   12.7\n",
       " 123002          603 2015-07-30 15:00:00   14.7\n",
       " 123003          603 2015-07-30 16:00:00   14.2\n",
       " 123004          603 2015-07-30 17:00:00   14.6\n",
       " 123005          603 2015-07-30 18:00:00   14.3\n",
       " 123006          603 2015-07-30 19:00:00   12.8\n",
       " 123007          603 2015-07-30 20:00:00   12.0,\n",
       "         STATIONS_ID                date  TT_TU\n",
       " 123008          603 2015-07-30 21:00:00   11.7\n",
       " 123009          603 2015-07-30 22:00:00   11.5\n",
       " 123010          603 2015-07-30 23:00:00   11.3\n",
       " 123011          603 2015-07-31 00:00:00 -999.0\n",
       " 123012          603 2015-07-31 01:00:00 -999.0\n",
       " 123013          603 2015-07-31 02:00:00 -999.0\n",
       " 123014          603 2015-07-31 03:00:00 -999.0\n",
       " 123015          603 2015-07-31 04:00:00 -999.0\n",
       " 123016          603 2015-07-31 05:00:00 -999.0\n",
       " 123017          603 2015-07-31 06:00:00 -999.0\n",
       " 123018          603 2015-07-31 07:00:00 -999.0\n",
       " 123019          603 2015-07-31 08:00:00   12.4\n",
       " 123020          603 2015-07-31 09:00:00   15.0\n",
       " 123021          603 2015-07-31 10:00:00   14.5\n",
       " 123022          603 2015-07-31 11:00:00   16.6\n",
       " 123023          603 2015-07-31 12:00:00   17.4\n",
       " 123024          603 2015-07-31 13:00:00   17.4\n",
       " 123025          603 2015-07-31 14:00:00   18.4\n",
       " 123026          603 2015-07-31 15:00:00   18.5\n",
       " 123027          603 2015-07-31 16:00:00   19.1\n",
       " 123028          603 2015-07-31 17:00:00   19.1\n",
       " 123029          603 2015-07-31 18:00:00   18.8\n",
       " 123030          603 2015-07-31 19:00:00   17.1\n",
       " 123031          603 2015-07-31 20:00:00   15.3,\n",
       "         STATIONS_ID                date  TT_TU\n",
       " 123032          603 2015-07-31 21:00:00   13.7\n",
       " 123033          603 2015-07-31 22:00:00   14.0\n",
       " 123034          603 2015-07-31 23:00:00   12.5\n",
       " 123035          603 2015-08-01 00:00:00   11.8\n",
       " 123036          603 2015-08-01 01:00:00   11.4\n",
       " 123037          603 2015-08-01 02:00:00   10.9\n",
       " 123038          603 2015-08-01 03:00:00   10.8\n",
       " 123039          603 2015-08-01 04:00:00   10.8\n",
       " 123040          603 2015-08-01 05:00:00   10.8\n",
       " 123041          603 2015-08-01 06:00:00   13.6\n",
       " 123042          603 2015-08-01 07:00:00   15.3\n",
       " 123043          603 2015-08-01 08:00:00   16.8\n",
       " 123044          603 2015-08-01 09:00:00   18.2\n",
       " 123045          603 2015-08-01 10:00:00   20.4\n",
       " 123046          603 2015-08-01 11:00:00   21.0\n",
       " 123047          603 2015-08-01 12:00:00   23.0\n",
       " 123048          603 2015-08-01 13:00:00   23.4\n",
       " 123049          603 2015-08-01 14:00:00   24.7\n",
       " 123050          603 2015-08-01 15:00:00   25.0\n",
       " 123051          603 2015-08-01 16:00:00   24.2\n",
       " 123052          603 2015-08-01 17:00:00   23.6\n",
       " 123053          603 2015-08-01 18:00:00   23.2\n",
       " 123054          603 2015-08-01 19:00:00   21.6\n",
       " 123055          603 2015-08-01 20:00:00   19.4)"
      ]
     },
     "execution_count": 63,
     "metadata": {},
     "output_type": "execute_result"
    }
   ],
   "source": [
    "st_603[st_603.date > '2015-07-29 20:00:00'].head(24), st_603[st_603.date > '2015-07-30 20:00:00'].head(24), st_603[st_603.date > '2015-07-31 20:00:00'].head(24)"
   ]
  },
  {
   "cell_type": "markdown",
   "id": "9db0cf9a",
   "metadata": {},
   "source": [
    "Here I see that the mean of the previous and the following day is not the best way to move the missing values, because after noon on the 31st it starts to warm up, but the next morning is colder than the previous day (amplitudes rise, sometimes it happens with decrease in cloud cover). Therefore, I replace the missing values with the previous day values for the same period, because the adjacent values around the missing ones are close."
   ]
  },
  {
   "cell_type": "code",
   "execution_count": 64,
   "id": "8929d840",
   "metadata": {},
   "outputs": [
    {
     "name": "stderr",
     "output_type": "stream",
     "text": [
      "<ipython-input-64-4f48aac72610>:2: SettingWithCopyWarning: \n",
      "A value is trying to be set on a copy of a slice from a DataFrame\n",
      "\n",
      "See the caveats in the documentation: https://pandas.pydata.org/pandas-docs/stable/user_guide/indexing.html#returning-a-view-versus-a-copy\n",
      "  st_603['TT_TU'][123012] = st_603['TT_TU'][122988]\n",
      "<ipython-input-64-4f48aac72610>:3: SettingWithCopyWarning: \n",
      "A value is trying to be set on a copy of a slice from a DataFrame\n",
      "\n",
      "See the caveats in the documentation: https://pandas.pydata.org/pandas-docs/stable/user_guide/indexing.html#returning-a-view-versus-a-copy\n",
      "  st_603['TT_TU'][123013] = st_603['TT_TU'][122989]\n",
      "<ipython-input-64-4f48aac72610>:4: SettingWithCopyWarning: \n",
      "A value is trying to be set on a copy of a slice from a DataFrame\n",
      "\n",
      "See the caveats in the documentation: https://pandas.pydata.org/pandas-docs/stable/user_guide/indexing.html#returning-a-view-versus-a-copy\n",
      "  st_603['TT_TU'][123014] = st_603['TT_TU'][122990]\n",
      "<ipython-input-64-4f48aac72610>:5: SettingWithCopyWarning: \n",
      "A value is trying to be set on a copy of a slice from a DataFrame\n",
      "\n",
      "See the caveats in the documentation: https://pandas.pydata.org/pandas-docs/stable/user_guide/indexing.html#returning-a-view-versus-a-copy\n",
      "  st_603['TT_TU'][123015] = st_603['TT_TU'][122991]\n",
      "<ipython-input-64-4f48aac72610>:6: SettingWithCopyWarning: \n",
      "A value is trying to be set on a copy of a slice from a DataFrame\n",
      "\n",
      "See the caveats in the documentation: https://pandas.pydata.org/pandas-docs/stable/user_guide/indexing.html#returning-a-view-versus-a-copy\n",
      "  st_603['TT_TU'][123016] = st_603['TT_TU'][122992]\n",
      "<ipython-input-64-4f48aac72610>:7: SettingWithCopyWarning: \n",
      "A value is trying to be set on a copy of a slice from a DataFrame\n",
      "\n",
      "See the caveats in the documentation: https://pandas.pydata.org/pandas-docs/stable/user_guide/indexing.html#returning-a-view-versus-a-copy\n",
      "  st_603['TT_TU'][123017] = st_603['TT_TU'][122993]\n",
      "<ipython-input-64-4f48aac72610>:8: SettingWithCopyWarning: \n",
      "A value is trying to be set on a copy of a slice from a DataFrame\n",
      "\n",
      "See the caveats in the documentation: https://pandas.pydata.org/pandas-docs/stable/user_guide/indexing.html#returning-a-view-versus-a-copy\n",
      "  st_603['TT_TU'][123018] = st_603['TT_TU'][122994]\n"
     ]
    }
   ],
   "source": [
    "st_603['TT_TU'][123011] = st_603['TT_TU'][122987]\n",
    "st_603['TT_TU'][123012] = st_603['TT_TU'][122988]\n",
    "st_603['TT_TU'][123013] = st_603['TT_TU'][122989] \n",
    "st_603['TT_TU'][123014] = st_603['TT_TU'][122990]\n",
    "st_603['TT_TU'][123015] = st_603['TT_TU'][122991]\n",
    "st_603['TT_TU'][123016] = st_603['TT_TU'][122992]\n",
    "st_603['TT_TU'][123017] = st_603['TT_TU'][122993]\n",
    "st_603['TT_TU'][123018] = st_603['TT_TU'][122994]"
   ]
  },
  {
   "cell_type": "code",
   "execution_count": 65,
   "id": "18f6a9da",
   "metadata": {
    "scrolled": true
   },
   "outputs": [
    {
     "data": {
      "text/plain": [
       "(Empty DataFrame\n",
       " Columns: [STATIONS_ID, date, TT_TU]\n",
       " Index: [],\n",
       " Empty DataFrame\n",
       " Columns: [STATIONS_ID, date, TT_TU]\n",
       " Index: [])"
      ]
     },
     "execution_count": 65,
     "metadata": {},
     "output_type": "execute_result"
    }
   ],
   "source": [
    "st_603[st_603['TT_TU'] > 50], st_603[st_603['TT_TU'] < -30]"
   ]
  },
  {
   "cell_type": "code",
   "execution_count": 66,
   "id": "8b60ed22",
   "metadata": {},
   "outputs": [
    {
     "data": {
      "text/plain": [
       "True    35064\n",
       "Name: DateUTC, dtype: int64"
      ]
     },
     "execution_count": 66,
     "metadata": {},
     "output_type": "execute_result"
    }
   ],
   "source": [
    "power['DateUTC'].isin(st_44['date']).value_counts()"
   ]
  },
  {
   "cell_type": "code",
   "execution_count": 67,
   "id": "6cac4dcf",
   "metadata": {
    "scrolled": false
   },
   "outputs": [
    {
     "data": {
      "text/plain": [
       "STATIONS_ID    35064\n",
       "date           35064\n",
       "TT_TU          35064\n",
       "dtype: int64"
      ]
     },
     "execution_count": 67,
     "metadata": {},
     "output_type": "execute_result"
    }
   ],
   "source": [
    "st_603.isna().count()"
   ]
  },
  {
   "cell_type": "markdown",
   "id": "1e681591",
   "metadata": {},
   "source": [
    "I joint all the different stations data into one dataframe. "
   ]
  },
  {
   "cell_type": "code",
   "execution_count": 68,
   "id": "dbaf16a2",
   "metadata": {},
   "outputs": [],
   "source": [
    "st_44 = st_44.rename(columns = {'TT_TU': 'st_44'})\n",
    "st_44 = st_44.set_index('date')\n",
    "st_303 = st_303.rename(columns = {'TT_TU': 'st_303'})\n",
    "st_303 = st_303.set_index('date')\n",
    "st_1161 = st_1161.rename(columns = {'TT_TU': 'st_1161'})\n",
    "st_1161 = st_1161.set_index('date')\n",
    "st_603 = st_603.rename(columns = {'TT_TU': 'st_603'})\n",
    "st_603 = st_603.set_index('date')"
   ]
  },
  {
   "cell_type": "code",
   "execution_count": 69,
   "id": "d2b27861",
   "metadata": {},
   "outputs": [
    {
     "data": {
      "text/html": [
       "<div>\n",
       "<style scoped>\n",
       "    .dataframe tbody tr th:only-of-type {\n",
       "        vertical-align: middle;\n",
       "    }\n",
       "\n",
       "    .dataframe tbody tr th {\n",
       "        vertical-align: top;\n",
       "    }\n",
       "\n",
       "    .dataframe thead th {\n",
       "        text-align: right;\n",
       "    }\n",
       "</style>\n",
       "<table border=\"1\" class=\"dataframe\">\n",
       "  <thead>\n",
       "    <tr style=\"text-align: right;\">\n",
       "      <th></th>\n",
       "      <th>STATIONS_ID</th>\n",
       "      <th>st_44</th>\n",
       "    </tr>\n",
       "    <tr>\n",
       "      <th>date</th>\n",
       "      <th></th>\n",
       "      <th></th>\n",
       "    </tr>\n",
       "  </thead>\n",
       "  <tbody>\n",
       "    <tr>\n",
       "      <th>2015-01-01 00:00:00</th>\n",
       "      <td>44</td>\n",
       "      <td>2.2</td>\n",
       "    </tr>\n",
       "    <tr>\n",
       "      <th>2015-01-01 01:00:00</th>\n",
       "      <td>44</td>\n",
       "      <td>2.5</td>\n",
       "    </tr>\n",
       "    <tr>\n",
       "      <th>2015-01-01 02:00:00</th>\n",
       "      <td>44</td>\n",
       "      <td>2.3</td>\n",
       "    </tr>\n",
       "    <tr>\n",
       "      <th>2015-01-01 03:00:00</th>\n",
       "      <td>44</td>\n",
       "      <td>2.3</td>\n",
       "    </tr>\n",
       "    <tr>\n",
       "      <th>2015-01-01 04:00:00</th>\n",
       "      <td>44</td>\n",
       "      <td>1.9</td>\n",
       "    </tr>\n",
       "    <tr>\n",
       "      <th>...</th>\n",
       "      <td>...</td>\n",
       "      <td>...</td>\n",
       "    </tr>\n",
       "    <tr>\n",
       "      <th>2018-12-31 19:00:00</th>\n",
       "      <td>44</td>\n",
       "      <td>8.8</td>\n",
       "    </tr>\n",
       "    <tr>\n",
       "      <th>2018-12-31 20:00:00</th>\n",
       "      <td>44</td>\n",
       "      <td>8.6</td>\n",
       "    </tr>\n",
       "    <tr>\n",
       "      <th>2018-12-31 21:00:00</th>\n",
       "      <td>44</td>\n",
       "      <td>8.6</td>\n",
       "    </tr>\n",
       "    <tr>\n",
       "      <th>2018-12-31 22:00:00</th>\n",
       "      <td>44</td>\n",
       "      <td>8.5</td>\n",
       "    </tr>\n",
       "    <tr>\n",
       "      <th>2018-12-31 23:00:00</th>\n",
       "      <td>44</td>\n",
       "      <td>7.8</td>\n",
       "    </tr>\n",
       "  </tbody>\n",
       "</table>\n",
       "<p>35064 rows × 2 columns</p>\n",
       "</div>"
      ],
      "text/plain": [
       "                     STATIONS_ID  st_44\n",
       "date                                   \n",
       "2015-01-01 00:00:00           44    2.2\n",
       "2015-01-01 01:00:00           44    2.5\n",
       "2015-01-01 02:00:00           44    2.3\n",
       "2015-01-01 03:00:00           44    2.3\n",
       "2015-01-01 04:00:00           44    1.9\n",
       "...                          ...    ...\n",
       "2018-12-31 19:00:00           44    8.8\n",
       "2018-12-31 20:00:00           44    8.6\n",
       "2018-12-31 21:00:00           44    8.6\n",
       "2018-12-31 22:00:00           44    8.5\n",
       "2018-12-31 23:00:00           44    7.8\n",
       "\n",
       "[35064 rows x 2 columns]"
      ]
     },
     "execution_count": 69,
     "metadata": {},
     "output_type": "execute_result"
    }
   ],
   "source": [
    "st_44"
   ]
  },
  {
   "cell_type": "code",
   "execution_count": 70,
   "id": "9b3e1488",
   "metadata": {},
   "outputs": [],
   "source": [
    "temperature = st_44.join(st_303, how = 'outer', rsuffix = 'st_303')"
   ]
  },
  {
   "cell_type": "code",
   "execution_count": 71,
   "id": "c1436d46",
   "metadata": {},
   "outputs": [
    {
     "data": {
      "text/html": [
       "<div>\n",
       "<style scoped>\n",
       "    .dataframe tbody tr th:only-of-type {\n",
       "        vertical-align: middle;\n",
       "    }\n",
       "\n",
       "    .dataframe tbody tr th {\n",
       "        vertical-align: top;\n",
       "    }\n",
       "\n",
       "    .dataframe thead th {\n",
       "        text-align: right;\n",
       "    }\n",
       "</style>\n",
       "<table border=\"1\" class=\"dataframe\">\n",
       "  <thead>\n",
       "    <tr style=\"text-align: right;\">\n",
       "      <th></th>\n",
       "      <th>STATIONS_ID</th>\n",
       "      <th>st_44</th>\n",
       "      <th>STATIONS_IDst_303</th>\n",
       "      <th>st_303</th>\n",
       "    </tr>\n",
       "    <tr>\n",
       "      <th>date</th>\n",
       "      <th></th>\n",
       "      <th></th>\n",
       "      <th></th>\n",
       "      <th></th>\n",
       "    </tr>\n",
       "  </thead>\n",
       "  <tbody>\n",
       "    <tr>\n",
       "      <th>2015-01-01 00:00:00</th>\n",
       "      <td>44</td>\n",
       "      <td>2.2</td>\n",
       "      <td>303</td>\n",
       "      <td>3.6</td>\n",
       "    </tr>\n",
       "    <tr>\n",
       "      <th>2015-01-01 01:00:00</th>\n",
       "      <td>44</td>\n",
       "      <td>2.5</td>\n",
       "      <td>303</td>\n",
       "      <td>3.8</td>\n",
       "    </tr>\n",
       "    <tr>\n",
       "      <th>2015-01-01 02:00:00</th>\n",
       "      <td>44</td>\n",
       "      <td>2.3</td>\n",
       "      <td>303</td>\n",
       "      <td>3.8</td>\n",
       "    </tr>\n",
       "    <tr>\n",
       "      <th>2015-01-01 03:00:00</th>\n",
       "      <td>44</td>\n",
       "      <td>2.3</td>\n",
       "      <td>303</td>\n",
       "      <td>3.7</td>\n",
       "    </tr>\n",
       "    <tr>\n",
       "      <th>2015-01-01 04:00:00</th>\n",
       "      <td>44</td>\n",
       "      <td>1.9</td>\n",
       "      <td>303</td>\n",
       "      <td>3.6</td>\n",
       "    </tr>\n",
       "    <tr>\n",
       "      <th>...</th>\n",
       "      <td>...</td>\n",
       "      <td>...</td>\n",
       "      <td>...</td>\n",
       "      <td>...</td>\n",
       "    </tr>\n",
       "    <tr>\n",
       "      <th>2018-12-31 19:00:00</th>\n",
       "      <td>44</td>\n",
       "      <td>8.8</td>\n",
       "      <td>303</td>\n",
       "      <td>6.5</td>\n",
       "    </tr>\n",
       "    <tr>\n",
       "      <th>2018-12-31 20:00:00</th>\n",
       "      <td>44</td>\n",
       "      <td>8.6</td>\n",
       "      <td>303</td>\n",
       "      <td>6.9</td>\n",
       "    </tr>\n",
       "    <tr>\n",
       "      <th>2018-12-31 21:00:00</th>\n",
       "      <td>44</td>\n",
       "      <td>8.6</td>\n",
       "      <td>303</td>\n",
       "      <td>7.2</td>\n",
       "    </tr>\n",
       "    <tr>\n",
       "      <th>2018-12-31 22:00:00</th>\n",
       "      <td>44</td>\n",
       "      <td>8.5</td>\n",
       "      <td>303</td>\n",
       "      <td>7.6</td>\n",
       "    </tr>\n",
       "    <tr>\n",
       "      <th>2018-12-31 23:00:00</th>\n",
       "      <td>44</td>\n",
       "      <td>7.8</td>\n",
       "      <td>303</td>\n",
       "      <td>7.9</td>\n",
       "    </tr>\n",
       "  </tbody>\n",
       "</table>\n",
       "<p>35064 rows × 4 columns</p>\n",
       "</div>"
      ],
      "text/plain": [
       "                     STATIONS_ID  st_44  STATIONS_IDst_303  st_303\n",
       "date                                                              \n",
       "2015-01-01 00:00:00           44    2.2                303     3.6\n",
       "2015-01-01 01:00:00           44    2.5                303     3.8\n",
       "2015-01-01 02:00:00           44    2.3                303     3.8\n",
       "2015-01-01 03:00:00           44    2.3                303     3.7\n",
       "2015-01-01 04:00:00           44    1.9                303     3.6\n",
       "...                          ...    ...                ...     ...\n",
       "2018-12-31 19:00:00           44    8.8                303     6.5\n",
       "2018-12-31 20:00:00           44    8.6                303     6.9\n",
       "2018-12-31 21:00:00           44    8.6                303     7.2\n",
       "2018-12-31 22:00:00           44    8.5                303     7.6\n",
       "2018-12-31 23:00:00           44    7.8                303     7.9\n",
       "\n",
       "[35064 rows x 4 columns]"
      ]
     },
     "execution_count": 71,
     "metadata": {},
     "output_type": "execute_result"
    }
   ],
   "source": [
    "temperature"
   ]
  },
  {
   "cell_type": "code",
   "execution_count": 72,
   "id": "ad7bd348",
   "metadata": {},
   "outputs": [],
   "source": [
    "temperature = temperature.join(st_1161, how = 'outer', rsuffix = 'st_1161')"
   ]
  },
  {
   "cell_type": "code",
   "execution_count": 73,
   "id": "8b8ab19a",
   "metadata": {},
   "outputs": [],
   "source": [
    "temperature = temperature.join(st_603, how = 'outer', rsuffix = 'st_603')"
   ]
  },
  {
   "cell_type": "code",
   "execution_count": 74,
   "id": "6bcc509a",
   "metadata": {},
   "outputs": [],
   "source": [
    "temperature = temperature[['st_44', 'st_303', 'st_1161', 'st_603']]"
   ]
  },
  {
   "cell_type": "code",
   "execution_count": 75,
   "id": "bd29097a",
   "metadata": {
    "scrolled": false
   },
   "outputs": [
    {
     "data": {
      "text/html": [
       "<div>\n",
       "<style scoped>\n",
       "    .dataframe tbody tr th:only-of-type {\n",
       "        vertical-align: middle;\n",
       "    }\n",
       "\n",
       "    .dataframe tbody tr th {\n",
       "        vertical-align: top;\n",
       "    }\n",
       "\n",
       "    .dataframe thead th {\n",
       "        text-align: right;\n",
       "    }\n",
       "</style>\n",
       "<table border=\"1\" class=\"dataframe\">\n",
       "  <thead>\n",
       "    <tr style=\"text-align: right;\">\n",
       "      <th></th>\n",
       "      <th>st_44</th>\n",
       "      <th>st_303</th>\n",
       "      <th>st_1161</th>\n",
       "      <th>st_603</th>\n",
       "    </tr>\n",
       "    <tr>\n",
       "      <th>date</th>\n",
       "      <th></th>\n",
       "      <th></th>\n",
       "      <th></th>\n",
       "      <th></th>\n",
       "    </tr>\n",
       "  </thead>\n",
       "  <tbody>\n",
       "    <tr>\n",
       "      <th>2015-01-01 00:00:00</th>\n",
       "      <td>2.2</td>\n",
       "      <td>3.6</td>\n",
       "      <td>0.1</td>\n",
       "      <td>1.9</td>\n",
       "    </tr>\n",
       "    <tr>\n",
       "      <th>2015-01-01 01:00:00</th>\n",
       "      <td>2.5</td>\n",
       "      <td>3.8</td>\n",
       "      <td>0.2</td>\n",
       "      <td>0.4</td>\n",
       "    </tr>\n",
       "    <tr>\n",
       "      <th>2015-01-01 02:00:00</th>\n",
       "      <td>2.3</td>\n",
       "      <td>3.8</td>\n",
       "      <td>0.2</td>\n",
       "      <td>0.3</td>\n",
       "    </tr>\n",
       "    <tr>\n",
       "      <th>2015-01-01 03:00:00</th>\n",
       "      <td>2.3</td>\n",
       "      <td>3.7</td>\n",
       "      <td>0.2</td>\n",
       "      <td>0.3</td>\n",
       "    </tr>\n",
       "    <tr>\n",
       "      <th>2015-01-01 04:00:00</th>\n",
       "      <td>1.9</td>\n",
       "      <td>3.6</td>\n",
       "      <td>0.1</td>\n",
       "      <td>0.7</td>\n",
       "    </tr>\n",
       "    <tr>\n",
       "      <th>...</th>\n",
       "      <td>...</td>\n",
       "      <td>...</td>\n",
       "      <td>...</td>\n",
       "      <td>...</td>\n",
       "    </tr>\n",
       "    <tr>\n",
       "      <th>2018-12-31 19:00:00</th>\n",
       "      <td>8.8</td>\n",
       "      <td>6.5</td>\n",
       "      <td>5.4</td>\n",
       "      <td>8.0</td>\n",
       "    </tr>\n",
       "    <tr>\n",
       "      <th>2018-12-31 20:00:00</th>\n",
       "      <td>8.6</td>\n",
       "      <td>6.9</td>\n",
       "      <td>5.4</td>\n",
       "      <td>8.0</td>\n",
       "    </tr>\n",
       "    <tr>\n",
       "      <th>2018-12-31 21:00:00</th>\n",
       "      <td>8.6</td>\n",
       "      <td>7.2</td>\n",
       "      <td>5.5</td>\n",
       "      <td>8.0</td>\n",
       "    </tr>\n",
       "    <tr>\n",
       "      <th>2018-12-31 22:00:00</th>\n",
       "      <td>8.5</td>\n",
       "      <td>7.6</td>\n",
       "      <td>5.5</td>\n",
       "      <td>7.7</td>\n",
       "    </tr>\n",
       "    <tr>\n",
       "      <th>2018-12-31 23:00:00</th>\n",
       "      <td>7.8</td>\n",
       "      <td>7.9</td>\n",
       "      <td>5.5</td>\n",
       "      <td>7.7</td>\n",
       "    </tr>\n",
       "  </tbody>\n",
       "</table>\n",
       "<p>35064 rows × 4 columns</p>\n",
       "</div>"
      ],
      "text/plain": [
       "                     st_44  st_303  st_1161  st_603\n",
       "date                                               \n",
       "2015-01-01 00:00:00    2.2     3.6      0.1     1.9\n",
       "2015-01-01 01:00:00    2.5     3.8      0.2     0.4\n",
       "2015-01-01 02:00:00    2.3     3.8      0.2     0.3\n",
       "2015-01-01 03:00:00    2.3     3.7      0.2     0.3\n",
       "2015-01-01 04:00:00    1.9     3.6      0.1     0.7\n",
       "...                    ...     ...      ...     ...\n",
       "2018-12-31 19:00:00    8.8     6.5      5.4     8.0\n",
       "2018-12-31 20:00:00    8.6     6.9      5.4     8.0\n",
       "2018-12-31 21:00:00    8.6     7.2      5.5     8.0\n",
       "2018-12-31 22:00:00    8.5     7.6      5.5     7.7\n",
       "2018-12-31 23:00:00    7.8     7.9      5.5     7.7\n",
       "\n",
       "[35064 rows x 4 columns]"
      ]
     },
     "execution_count": 75,
     "metadata": {},
     "output_type": "execute_result"
    }
   ],
   "source": [
    "temperature"
   ]
  },
  {
   "cell_type": "markdown",
   "id": "1c407915",
   "metadata": {},
   "source": [
    "### 4. A look at the data."
   ]
  },
  {
   "cell_type": "code",
   "execution_count": 76,
   "id": "41a24632",
   "metadata": {
    "scrolled": false
   },
   "outputs": [
    {
     "data": {
      "text/html": [
       "<div>\n",
       "<style scoped>\n",
       "    .dataframe tbody tr th:only-of-type {\n",
       "        vertical-align: middle;\n",
       "    }\n",
       "\n",
       "    .dataframe tbody tr th {\n",
       "        vertical-align: top;\n",
       "    }\n",
       "\n",
       "    .dataframe thead th {\n",
       "        text-align: right;\n",
       "    }\n",
       "</style>\n",
       "<table border=\"1\" class=\"dataframe\">\n",
       "  <thead>\n",
       "    <tr style=\"text-align: right;\">\n",
       "      <th></th>\n",
       "      <th>st_44</th>\n",
       "      <th>st_303</th>\n",
       "      <th>st_1161</th>\n",
       "      <th>st_603</th>\n",
       "    </tr>\n",
       "  </thead>\n",
       "  <tbody>\n",
       "    <tr>\n",
       "      <th>count</th>\n",
       "      <td>35064.000000</td>\n",
       "      <td>35064.000000</td>\n",
       "      <td>35064.000000</td>\n",
       "      <td>35064.000000</td>\n",
       "    </tr>\n",
       "    <tr>\n",
       "      <th>mean</th>\n",
       "      <td>10.201175</td>\n",
       "      <td>10.292374</td>\n",
       "      <td>9.535595</td>\n",
       "      <td>11.158850</td>\n",
       "    </tr>\n",
       "    <tr>\n",
       "      <th>std</th>\n",
       "      <td>7.247367</td>\n",
       "      <td>8.506256</td>\n",
       "      <td>8.687295</td>\n",
       "      <td>7.440873</td>\n",
       "    </tr>\n",
       "    <tr>\n",
       "      <th>min</th>\n",
       "      <td>-11.700000</td>\n",
       "      <td>-17.300000</td>\n",
       "      <td>-19.500000</td>\n",
       "      <td>-9.900000</td>\n",
       "    </tr>\n",
       "    <tr>\n",
       "      <th>25%</th>\n",
       "      <td>4.800000</td>\n",
       "      <td>3.800000</td>\n",
       "      <td>2.700000</td>\n",
       "      <td>5.400000</td>\n",
       "    </tr>\n",
       "    <tr>\n",
       "      <th>50%</th>\n",
       "      <td>9.900000</td>\n",
       "      <td>9.700000</td>\n",
       "      <td>8.900000</td>\n",
       "      <td>10.900000</td>\n",
       "    </tr>\n",
       "    <tr>\n",
       "      <th>75%</th>\n",
       "      <td>15.400000</td>\n",
       "      <td>16.400000</td>\n",
       "      <td>15.700000</td>\n",
       "      <td>16.500000</td>\n",
       "    </tr>\n",
       "    <tr>\n",
       "      <th>max</th>\n",
       "      <td>35.800000</td>\n",
       "      <td>38.000000</td>\n",
       "      <td>35.900000</td>\n",
       "      <td>36.700000</td>\n",
       "    </tr>\n",
       "  </tbody>\n",
       "</table>\n",
       "</div>"
      ],
      "text/plain": [
       "              st_44        st_303       st_1161        st_603\n",
       "count  35064.000000  35064.000000  35064.000000  35064.000000\n",
       "mean      10.201175     10.292374      9.535595     11.158850\n",
       "std        7.247367      8.506256      8.687295      7.440873\n",
       "min      -11.700000    -17.300000    -19.500000     -9.900000\n",
       "25%        4.800000      3.800000      2.700000      5.400000\n",
       "50%        9.900000      9.700000      8.900000     10.900000\n",
       "75%       15.400000     16.400000     15.700000     16.500000\n",
       "max       35.800000     38.000000     35.900000     36.700000"
      ]
     },
     "execution_count": 76,
     "metadata": {},
     "output_type": "execute_result"
    }
   ],
   "source": [
    "temperature.describe()"
   ]
  },
  {
   "cell_type": "markdown",
   "id": "a95f1448",
   "metadata": {},
   "source": [
    "Predictably the temperatures are highly correlated. The highest correlation is between st_44 and st_603, both of which are in the area that has temperate climate."
   ]
  },
  {
   "cell_type": "code",
   "execution_count": 77,
   "id": "0454aca9",
   "metadata": {
    "scrolled": false
   },
   "outputs": [
    {
     "data": {
      "text/html": [
       "<div>\n",
       "<style scoped>\n",
       "    .dataframe tbody tr th:only-of-type {\n",
       "        vertical-align: middle;\n",
       "    }\n",
       "\n",
       "    .dataframe tbody tr th {\n",
       "        vertical-align: top;\n",
       "    }\n",
       "\n",
       "    .dataframe thead th {\n",
       "        text-align: right;\n",
       "    }\n",
       "</style>\n",
       "<table border=\"1\" class=\"dataframe\">\n",
       "  <thead>\n",
       "    <tr style=\"text-align: right;\">\n",
       "      <th></th>\n",
       "      <th>st_44</th>\n",
       "      <th>st_303</th>\n",
       "      <th>st_1161</th>\n",
       "      <th>st_603</th>\n",
       "    </tr>\n",
       "  </thead>\n",
       "  <tbody>\n",
       "    <tr>\n",
       "      <th>st_44</th>\n",
       "      <td>1.000000</td>\n",
       "      <td>0.930555</td>\n",
       "      <td>0.887805</td>\n",
       "      <td>0.949133</td>\n",
       "    </tr>\n",
       "    <tr>\n",
       "      <th>st_303</th>\n",
       "      <td>0.930555</td>\n",
       "      <td>1.000000</td>\n",
       "      <td>0.918690</td>\n",
       "      <td>0.912614</td>\n",
       "    </tr>\n",
       "    <tr>\n",
       "      <th>st_1161</th>\n",
       "      <td>0.887805</td>\n",
       "      <td>0.918690</td>\n",
       "      <td>1.000000</td>\n",
       "      <td>0.910338</td>\n",
       "    </tr>\n",
       "    <tr>\n",
       "      <th>st_603</th>\n",
       "      <td>0.949133</td>\n",
       "      <td>0.912614</td>\n",
       "      <td>0.910338</td>\n",
       "      <td>1.000000</td>\n",
       "    </tr>\n",
       "  </tbody>\n",
       "</table>\n",
       "</div>"
      ],
      "text/plain": [
       "            st_44    st_303   st_1161    st_603\n",
       "st_44    1.000000  0.930555  0.887805  0.949133\n",
       "st_303   0.930555  1.000000  0.918690  0.912614\n",
       "st_1161  0.887805  0.918690  1.000000  0.910338\n",
       "st_603   0.949133  0.912614  0.910338  1.000000"
      ]
     },
     "execution_count": 77,
     "metadata": {},
     "output_type": "execute_result"
    }
   ],
   "source": [
    "temperature.corr()"
   ]
  },
  {
   "cell_type": "code",
   "execution_count": 78,
   "id": "7b89c8ba",
   "metadata": {},
   "outputs": [],
   "source": [
    "temperature_y1 = temperature[temperature.index < '2016']"
   ]
  },
  {
   "cell_type": "code",
   "execution_count": 79,
   "id": "f95addec",
   "metadata": {},
   "outputs": [
    {
     "data": {
      "image/png": "[encoded data removed]",
      "text/plain": [
       "<Figure size 1152x720 with 1 Axes>"
      ]
     },
     "metadata": {
      "needs_background": "light"
     },
     "output_type": "display_data"
    }
   ],
   "source": [
    "plt.figure(figsize=(16,10))\n",
    "plt.plot(temperature_y1.index, temperature_y1, alpha = .9,)\n",
    "plt.title(\"Temperature measurements 2015\")\n",
    "plt.ylabel('Temperature in °C')\n",
    "plt.legend(['Großenkneten', 'Baruth', 'Eichstätt-Landershofen', 'Königswinter-Heiderhof'], loc = 2, fontsize = 'large')\n",
    "plt.show()"
   ]
  },
  {
   "cell_type": "code",
   "execution_count": 80,
   "id": "479e3f36",
   "metadata": {},
   "outputs": [],
   "source": [
    "power = power.rename(columns = {'DateUTC': 'date', 'Value': 'value'})\n",
    "power = power.set_index('date')"
   ]
  },
  {
   "cell_type": "markdown",
   "id": "f624bc31",
   "metadata": {},
   "source": [
    "I changed the data type, because when I tried to plot the data, I got an error that my computer does not have enough memory"
   ]
  },
  {
   "cell_type": "code",
   "execution_count": 81,
   "id": "42c720ce",
   "metadata": {},
   "outputs": [],
   "source": [
    "power = power['value'].astype('int32')"
   ]
  },
  {
   "cell_type": "code",
   "execution_count": 82,
   "id": "2310f625",
   "metadata": {},
   "outputs": [],
   "source": [
    "power = power.to_frame()"
   ]
  },
  {
   "cell_type": "code",
   "execution_count": 83,
   "id": "17f67d2c",
   "metadata": {},
   "outputs": [
    {
     "data": {
      "text/html": [
       "<div>\n",
       "<style scoped>\n",
       "    .dataframe tbody tr th:only-of-type {\n",
       "        vertical-align: middle;\n",
       "    }\n",
       "\n",
       "    .dataframe tbody tr th {\n",
       "        vertical-align: top;\n",
       "    }\n",
       "\n",
       "    .dataframe thead th {\n",
       "        text-align: right;\n",
       "    }\n",
       "</style>\n",
       "<table border=\"1\" class=\"dataframe\">\n",
       "  <thead>\n",
       "    <tr style=\"text-align: right;\">\n",
       "      <th></th>\n",
       "      <th>value</th>\n",
       "    </tr>\n",
       "    <tr>\n",
       "      <th>date</th>\n",
       "      <th></th>\n",
       "    </tr>\n",
       "  </thead>\n",
       "  <tbody>\n",
       "    <tr>\n",
       "      <th>2015-01-01 00:00:00</th>\n",
       "      <td>45814</td>\n",
       "    </tr>\n",
       "    <tr>\n",
       "      <th>2015-01-01 01:00:00</th>\n",
       "      <td>44189</td>\n",
       "    </tr>\n",
       "    <tr>\n",
       "      <th>2015-01-01 02:00:00</th>\n",
       "      <td>42773</td>\n",
       "    </tr>\n",
       "    <tr>\n",
       "      <th>2015-01-01 03:00:00</th>\n",
       "      <td>42173</td>\n",
       "    </tr>\n",
       "    <tr>\n",
       "      <th>2015-01-01 04:00:00</th>\n",
       "      <td>41472</td>\n",
       "    </tr>\n",
       "    <tr>\n",
       "      <th>...</th>\n",
       "      <td>...</td>\n",
       "    </tr>\n",
       "    <tr>\n",
       "      <th>2018-12-31 19:00:00</th>\n",
       "      <td>51404</td>\n",
       "    </tr>\n",
       "    <tr>\n",
       "      <th>2018-12-31 20:00:00</th>\n",
       "      <td>49750</td>\n",
       "    </tr>\n",
       "    <tr>\n",
       "      <th>2018-12-31 21:00:00</th>\n",
       "      <td>49220</td>\n",
       "    </tr>\n",
       "    <tr>\n",
       "      <th>2018-12-31 22:00:00</th>\n",
       "      <td>47147</td>\n",
       "    </tr>\n",
       "    <tr>\n",
       "      <th>2018-12-31 23:00:00</th>\n",
       "      <td>44231</td>\n",
       "    </tr>\n",
       "  </tbody>\n",
       "</table>\n",
       "<p>35064 rows × 1 columns</p>\n",
       "</div>"
      ],
      "text/plain": [
       "                     value\n",
       "date                      \n",
       "2015-01-01 00:00:00  45814\n",
       "2015-01-01 01:00:00  44189\n",
       "2015-01-01 02:00:00  42773\n",
       "2015-01-01 03:00:00  42173\n",
       "2015-01-01 04:00:00  41472\n",
       "...                    ...\n",
       "2018-12-31 19:00:00  51404\n",
       "2018-12-31 20:00:00  49750\n",
       "2018-12-31 21:00:00  49220\n",
       "2018-12-31 22:00:00  47147\n",
       "2018-12-31 23:00:00  44231\n",
       "\n",
       "[35064 rows x 1 columns]"
      ]
     },
     "execution_count": 83,
     "metadata": {},
     "output_type": "execute_result"
    }
   ],
   "source": [
    "power"
   ]
  },
  {
   "cell_type": "code",
   "execution_count": 84,
   "id": "b1c5f555",
   "metadata": {
    "scrolled": true
   },
   "outputs": [
    {
     "data": {
      "text/html": [
       "<div>\n",
       "<style scoped>\n",
       "    .dataframe tbody tr th:only-of-type {\n",
       "        vertical-align: middle;\n",
       "    }\n",
       "\n",
       "    .dataframe tbody tr th {\n",
       "        vertical-align: top;\n",
       "    }\n",
       "\n",
       "    .dataframe thead th {\n",
       "        text-align: right;\n",
       "    }\n",
       "</style>\n",
       "<table border=\"1\" class=\"dataframe\">\n",
       "  <thead>\n",
       "    <tr style=\"text-align: right;\">\n",
       "      <th></th>\n",
       "      <th>value</th>\n",
       "    </tr>\n",
       "  </thead>\n",
       "  <tbody>\n",
       "    <tr>\n",
       "      <th>count</th>\n",
       "      <td>35064.000000</td>\n",
       "    </tr>\n",
       "    <tr>\n",
       "      <th>mean</th>\n",
       "      <td>58975.396446</td>\n",
       "    </tr>\n",
       "    <tr>\n",
       "      <th>std</th>\n",
       "      <td>10362.835805</td>\n",
       "    </tr>\n",
       "    <tr>\n",
       "      <th>min</th>\n",
       "      <td>35800.000000</td>\n",
       "    </tr>\n",
       "    <tr>\n",
       "      <th>25%</th>\n",
       "      <td>50208.000000</td>\n",
       "    </tr>\n",
       "    <tr>\n",
       "      <th>50%</th>\n",
       "      <td>58657.000000</td>\n",
       "    </tr>\n",
       "    <tr>\n",
       "      <th>75%</th>\n",
       "      <td>67982.000000</td>\n",
       "    </tr>\n",
       "    <tr>\n",
       "      <th>max</th>\n",
       "      <td>81109.000000</td>\n",
       "    </tr>\n",
       "  </tbody>\n",
       "</table>\n",
       "</div>"
      ],
      "text/plain": [
       "              value\n",
       "count  35064.000000\n",
       "mean   58975.396446\n",
       "std    10362.835805\n",
       "min    35800.000000\n",
       "25%    50208.000000\n",
       "50%    58657.000000\n",
       "75%    67982.000000\n",
       "max    81109.000000"
      ]
     },
     "execution_count": 84,
     "metadata": {},
     "output_type": "execute_result"
    }
   ],
   "source": [
    "power.describe()"
   ]
  },
  {
   "cell_type": "code",
   "execution_count": 85,
   "id": "91b84184",
   "metadata": {},
   "outputs": [],
   "source": [
    "power_y1 = power[power.index < '2016']"
   ]
  },
  {
   "cell_type": "markdown",
   "id": "b3b84688",
   "metadata": {},
   "source": [
    "It looks like the days of the week have the biggest impact, but there is also seasonal variance."
   ]
  },
  {
   "cell_type": "code",
   "execution_count": 86,
   "id": "613dae1d",
   "metadata": {},
   "outputs": [
    {
     "data": {
      "image/png": "[encoded data removed]",
      "text/plain": [
       "<Figure size 1152x432 with 1 Axes>"
      ]
     },
     "metadata": {
      "needs_background": "light"
     },
     "output_type": "display_data"
    }
   ],
   "source": [
    "plt.figure(figsize=(16,6))\n",
    "plt.bar(power_y1.index, power_y1.value)\n",
    "plt.title(\"Electricity Load in Germany 2015\")\n",
    "plt.ylabel('Load MW')\n",
    "plt.show()"
   ]
  },
  {
   "cell_type": "markdown",
   "id": "886d66fe",
   "metadata": {},
   "source": [
    "It looks like the days of the week have the biggest impact, but there is also seasonal variance."
   ]
  },
  {
   "cell_type": "code",
   "execution_count": 87,
   "id": "f7194f5d",
   "metadata": {},
   "outputs": [],
   "source": [
    "power = power/1000"
   ]
  },
  {
   "cell_type": "markdown",
   "id": "89f6a09a",
   "metadata": {},
   "source": [
    "I change the measurement from MW to GW, so that the values are more comparable to the °C."
   ]
  },
  {
   "cell_type": "markdown",
   "id": "db95b658",
   "metadata": {},
   "source": [
    "### 5. Performing linear regression"
   ]
  },
  {
   "cell_type": "code",
   "execution_count": 89,
   "id": "544074af",
   "metadata": {},
   "outputs": [
    {
     "name": "stdout",
     "output_type": "stream",
     "text": [
      "(24544, 4)\r\n",
      "(10520, 4)\r\n",
      "(24544,)\r\n",
      "(10520,)\n"
     ]
    }
   ],
   "source": [
    "features_train, features_test, target_train, target_test = train_test_split(\n",
    "    temperature, power.value, train_size = 0.7, test_size = 0.3, random_state = 42)\n",
    "print(features_train.shape, features_test.shape, target_train.shape, target_test.shape, sep = \"\\r\\n\")"
   ]
  },
  {
   "cell_type": "code",
   "execution_count": 90,
   "id": "2ad04537",
   "metadata": {},
   "outputs": [
    {
     "data": {
      "text/plain": [
       "date\n",
       "2015-09-10 22:00:00    49.251\n",
       "2018-09-20 08:00:00    69.467\n",
       "2016-01-04 14:00:00    68.312\n",
       "2015-03-03 19:00:00    70.502\n",
       "2015-06-25 19:00:00    59.155\n",
       "                        ...  \n",
       "2015-10-26 01:00:00    44.155\n",
       "2015-01-09 10:00:00    77.102\n",
       "2017-12-23 22:00:00    48.874\n",
       "2016-09-27 12:00:00    67.425\n",
       "2015-10-16 07:00:00    73.539\n",
       "Name: value, Length: 10520, dtype: float64"
      ]
     },
     "execution_count": 90,
     "metadata": {},
     "output_type": "execute_result"
    }
   ],
   "source": [
    "target_test"
   ]
  },
  {
   "cell_type": "code",
   "execution_count": 91,
   "id": "15d18918",
   "metadata": {
    "scrolled": true
   },
   "outputs": [
    {
     "data": {
      "text/plain": [
       "LinearRegression()"
      ]
     },
     "execution_count": 91,
     "metadata": {},
     "output_type": "execute_result"
    }
   ],
   "source": [
    "reg = LinearRegression()\n",
    "reg.fit(features_train, target_train)"
   ]
  },
  {
   "cell_type": "markdown",
   "id": "5b2261cc",
   "metadata": {},
   "source": [
    "The coefficient are small. One explanation could be that in Germany natural gas is used more for heating than electricity and the seasonal variance is more due to different amount of sunlight.   "
   ]
  },
  {
   "cell_type": "code",
   "execution_count": 92,
   "id": "b735f839",
   "metadata": {
    "scrolled": false
   },
   "outputs": [
    {
     "name": "stdout",
     "output_type": "stream",
     "text": [
      "[ 0.04837512  0.14405931  0.14059567 -0.5099519 ] 61.33936901255663\n"
     ]
    }
   ],
   "source": [
    "print(reg.coef_, reg.intercept_)"
   ]
  },
  {
   "cell_type": "markdown",
   "id": "8ab13fec",
   "metadata": {},
   "source": [
    "I can’t explain why the first and last coefficient are so different, since the temperature from these two stations had the highest correlation."
   ]
  },
  {
   "cell_type": "code",
   "execution_count": 93,
   "id": "36912df7",
   "metadata": {},
   "outputs": [],
   "source": [
    "features_pred = reg.predict(features_test)"
   ]
  },
  {
   "cell_type": "code",
   "execution_count": 94,
   "id": "67db9a97",
   "metadata": {},
   "outputs": [
    {
     "data": {
      "text/plain": [
       "0.02299990617365988"
      ]
     },
     "execution_count": 94,
     "metadata": {},
     "output_type": "execute_result"
    }
   ],
   "source": [
    "r2_score(target_test, features_pred)"
   ]
  },
  {
   "cell_type": "markdown",
   "id": "eb909243",
   "metadata": {},
   "source": [
    "### 6. Conclusion\n",
    "Temperature does not explain the variance in electricity consumption in Germany."
   ]
  },
  {
   "cell_type": "code",
   "execution_count": null,
   "id": "1bf84935",
   "metadata": {},
   "outputs": [],
   "source": []
  }
 ],
 "metadata": {
  "kernelspec": {
   "display_name": "Python 3",
   "language": "python",
   "name": "python3"
  },
  "language_info": {
   "codemirror_mode": {
    "name": "ipython",
    "version": 3
   },
   "file_extension": ".py",
   "mimetype": "text/x-python",
   "name": "python",
   "nbconvert_exporter": "python",
   "pygments_lexer": "ipython3",
   "version": "3.8.8"
  }
 },
 "nbformat": 4,
 "nbformat_minor": 5
}
